{
 "cells": [
  {
   "cell_type": "markdown",
   "id": "844e3169-29f3-4f71-b9dc-bd22a55df8b9",
   "metadata": {},
   "source": [
    "string based assingment problem"
   ]
  },
  {
   "cell_type": "code",
   "execution_count": 1,
   "id": "f769ea01-9eae-458a-9829-7fb681eecd3e",
   "metadata": {},
   "outputs": [
    {
     "name": "stdin",
     "output_type": "stream",
     "text": [
      "Enetr a string Rahul\n"
     ]
    },
    {
     "name": "stdout",
     "output_type": "stream",
     "text": [
      "luhaR\n"
     ]
    }
   ],
   "source": [
    "# Write a program to reverse a string.\n",
    "\n",
    "input_string = input(\"Enetr a string\")\n",
    "reverse_string = \"\"\n",
    "reverse_string += input_string[::-1]\n",
    "print(reverse_string)\n"
   ]
  },
  {
   "cell_type": "code",
   "execution_count": 2,
   "id": "53141408-7800-4932-854d-cc1adad1e752",
   "metadata": {},
   "outputs": [
    {
     "name": "stdin",
     "output_type": "stream",
     "text": [
      "Enter a string Umar\n"
     ]
    },
    {
     "name": "stdout",
     "output_type": "stream",
     "text": [
      "The input string is not pallindrome\n"
     ]
    }
   ],
   "source": [
    "# Check if a string is a palindrome.\n",
    "\n",
    "\n",
    "input_string = input(\"Enter a string\")\n",
    "\n",
    "cleaned_string = input_string.replace(\" \", \"\").lower()\n",
    "\n",
    "reversed_string = cleaned_string[::-1]\n",
    "if cleaned_string == reversed_string:\n",
    "        print(\"The input string is pallindrome\")\n",
    "        \n",
    "else:\n",
    "            print(\"The input string is not pallindrome\")\n",
    "    \n",
    "    "
   ]
  },
  {
   "cell_type": "code",
   "execution_count": 3,
   "id": "45bfa302-31b1-4b47-9ee9-65e7feec7147",
   "metadata": {},
   "outputs": [
    {
     "name": "stdin",
     "output_type": "stream",
     "text": [
      "Enter a string;- umar\n"
     ]
    },
    {
     "name": "stdout",
     "output_type": "stream",
     "text": [
      "uppercase string;- UMAR\n"
     ]
    }
   ],
   "source": [
    "# Convert a string to uppercase.\n",
    "\n",
    "input_string = input(\"Enter a string;-\")\n",
    "\n",
    "uppercase_string = input_string.upper()\n",
    "\n",
    "print(\"uppercase string;-\",uppercase_string)\n",
    "\n",
    "\n"
   ]
  },
  {
   "cell_type": "code",
   "execution_count": 4,
   "id": "037f31a4-cdda-422d-aa9f-56c760a74b38",
   "metadata": {},
   "outputs": [
    {
     "name": "stdin",
     "output_type": "stream",
     "text": [
      "Enter a string;- UMAR\n"
     ]
    },
    {
     "name": "stdout",
     "output_type": "stream",
     "text": [
      "lowercase string;- umar\n"
     ]
    }
   ],
   "source": [
    "# Convert a string to lowercase.\n",
    "\n",
    "input_string = input(\"Enter a string;-\")\n",
    "\n",
    "lowercase_string = input_string.lower()\n",
    "\n",
    "print(\"lowercase string;-\",lowercase_string)\n"
   ]
  },
  {
   "cell_type": "code",
   "execution_count": 18,
   "id": "95667adb-09ae-41e7-b712-f3a149912417",
   "metadata": {},
   "outputs": [
    {
     "name": "stdin",
     "output_type": "stream",
     "text": [
      "enter a string umar\n"
     ]
    },
    {
     "name": "stdout",
     "output_type": "stream",
     "text": [
      "2\n"
     ]
    }
   ],
   "source": [
    "# Coiquet the number of vowels in a string.\n",
    "\n",
    "input_a = input(\"enter a string\")\n",
    "\n",
    "count_vowel = 0\n",
    "vowels = set(\"aeiouAEIOU\")\n",
    "\n",
    "for char in input_a :\n",
    "    if char in vowels:\n",
    "        count_vowel += 1\n",
    "print(count_vowel)        \n"
   ]
  },
  {
   "cell_type": "code",
   "execution_count": 6,
   "id": "6f36ec38-43f4-480d-ba05-1ee7332be6a4",
   "metadata": {},
   "outputs": [
    {
     "name": "stdin",
     "output_type": "stream",
     "text": [
      "enter a string hi humar\n"
     ]
    },
    {
     "name": "stdout",
     "output_type": "stream",
     "text": [
      "4\n"
     ]
    }
   ],
   "source": [
    "# Count the number of consonants in a string.\n",
    "\n",
    "\n",
    "input_c = input(\"enter a string\")\n",
    "\n",
    "count_consonant = 0\n",
    "\n",
    "consonant = \"qwrtyplkjhgfdszxcbnm\"\n",
    "\n",
    "for char in input_c:\n",
    "    if char in consonant:\n",
    "        count_consonant += 1\n",
    "print(count_consonant)"
   ]
  },
  {
   "cell_type": "code",
   "execution_count": 7,
   "id": "f1d9d37d-d36c-41bf-9b8f-d674913f9fa2",
   "metadata": {},
   "outputs": [
    {
     "name": "stdin",
     "output_type": "stream",
     "text": [
      "enetr a string hi umar\n"
     ]
    },
    {
     "name": "stdout",
     "output_type": "stream",
     "text": [
      "hiumar\n"
     ]
    }
   ],
   "source": [
    "# Remove all whitespaces from a string.\n",
    "\n",
    "\n",
    "input_string = input(\"enetr a string\")\n",
    "\n",
    "whitespace = \"\"\n",
    "\n",
    "for char in input_string:\n",
    "    if char != \" \":\n",
    "        whitespace += char\n",
    "print(whitespace)\n",
    "\n"
   ]
  },
  {
   "cell_type": "code",
   "execution_count": 9,
   "id": "9901e219-63e6-4427-952f-69407105fc7b",
   "metadata": {},
   "outputs": [
    {
     "name": "stdin",
     "output_type": "stream",
     "text": [
      "enter a string: umar\n"
     ]
    },
    {
     "name": "stdout",
     "output_type": "stream",
     "text": [
      "4\n"
     ]
    }
   ],
   "source": [
    "# Find the length of a string without using the `len()` function.\n",
    "\n",
    "input_string = input(\"enter a string:\")\n",
    "\n",
    "count = 0\n",
    "\n",
    "for char in input_string:\n",
    "    count += 1\n",
    "print(count)"
   ]
  },
  {
   "cell_type": "code",
   "execution_count": 10,
   "id": "ce4fe984-9af0-4096-93c7-526986bd624b",
   "metadata": {},
   "outputs": [
    {
     "name": "stdin",
     "output_type": "stream",
     "text": [
      "enter a string umar javed\n",
      "enetr a specific word umar\n"
     ]
    },
    {
     "name": "stdout",
     "output_type": "stream",
     "text": [
      "umar\n"
     ]
    }
   ],
   "source": [
    "# Check if a string contains a specific word.\n",
    "\n",
    "input_string = input(\"enter a string\")\n",
    "specific_word = input(\"enetr a specific word\")\n",
    "\n",
    "if specific_word in input_string:\n",
    "    print(specific_word)\n",
    "else:\n",
    "    print(\"it's not aspecific word\")"
   ]
  },
  {
   "cell_type": "code",
   "execution_count": 11,
   "id": "ce7994eb-ad65-4142-bd9f-65457fd1436c",
   "metadata": {},
   "outputs": [
    {
     "name": "stdin",
     "output_type": "stream",
     "text": [
      "enetr a string:  umar\n",
      "enetr a old string which you have to replace:  umar\n",
      "enetr a new string javed\n"
     ]
    },
    {
     "name": "stdout",
     "output_type": "stream",
     "text": [
      "modified string:  javed\n"
     ]
    }
   ],
   "source": [
    "# Replace a word in a string with another word.\n",
    "\n",
    "input_string = input(\"enetr a string: \")\n",
    "\n",
    "old_string = input(\"enetr a old string which you have to replace: \")\n",
    "\n",
    "new_string = input(\"enetr a new string\")\n",
    "\n",
    "modified_string = input_string.replace(old_string,new_string)\n",
    "\n",
    "print(\"modified string: \",modified_string)\n",
    "\n"
   ]
  },
  {
   "cell_type": "code",
   "execution_count": 12,
   "id": "f00b855b-1e42-47f8-8816-0746efd87d0f",
   "metadata": {},
   "outputs": [
    {
     "name": "stdout",
     "output_type": "stream",
     "text": [
      "1\n"
     ]
    }
   ],
   "source": [
    "# Count the occurrences of a word in a string.\n",
    "\n",
    "input_string = \"hello umar javed\"\n",
    "\n",
    "target_word = \"umar\"\n",
    "\n",
    "count = 0\n",
    "\n",
    "words = input_string.split()\n",
    "\n",
    "for word in words:\n",
    "    if word == target_word:\n",
    "        count += 1\n",
    "print(count)\n",
    "\n",
    "\n"
   ]
  },
  {
   "cell_type": "code",
   "execution_count": 13,
   "id": "18ca8c23-bd33-4ae3-a712-f5eea58e1638",
   "metadata": {},
   "outputs": [
    {
     "name": "stdout",
     "output_type": "stream",
     "text": [
      "6\n"
     ]
    }
   ],
   "source": [
    "# Find the first occurrence of a word in a string.\n",
    "\n",
    "input_string = \"Hello umar javed and rahul kumar\"\n",
    "\n",
    "target_word = \"umar\"\n",
    "\n",
    "index = input_string.find(target_word)\n",
    "\n",
    "if index == -1:\n",
    "    print(\"Null\")\n",
    "    \n",
    "else:\n",
    "    print(index)\n",
    "    "
   ]
  },
  {
   "cell_type": "code",
   "execution_count": 14,
   "id": "2e85f7e5-097d-4085-bc18-f3d2624cc49f",
   "metadata": {},
   "outputs": [
    {
     "name": "stdout",
     "output_type": "stream",
     "text": [
      "66\n"
     ]
    }
   ],
   "source": [
    "# Find the last occurrence of a word in a string.\n",
    "\n",
    "input_string =\"This is an example sentence. This sentence also contains the word example.\"\n",
    "\n",
    "target_word = \"example\"\n",
    "\n",
    "index = input_string.rfind(target_word)\n",
    "\n",
    "if index == -1:\n",
    "    print(\"Null\")\n",
    "    \n",
    "else:\n",
    "    print(index)\n",
    "    "
   ]
  },
  {
   "cell_type": "code",
   "execution_count": 15,
   "id": "d7251d06-68e1-4e05-bdad-e836eaaa03e1",
   "metadata": {},
   "outputs": [
    {
     "name": "stdin",
     "output_type": "stream",
     "text": [
      "Enter a string hi rahul and umar\n"
     ]
    },
    {
     "name": "stdout",
     "output_type": "stream",
     "text": [
      "['hi', 'rahul', 'and', 'umar']\n"
     ]
    }
   ],
   "source": [
    "# Split a string into a list of words.\n",
    "\n",
    "input_string = input(\"Enter a string\")\n",
    "\n",
    "words = input_string.split()\n",
    "\n",
    "print(words)\n",
    "\n"
   ]
  },
  {
   "cell_type": "code",
   "execution_count": 25,
   "id": "0732e69d-0e4a-4b82-a213-e6256d814d49",
   "metadata": {},
   "outputs": [
    {
     "name": "stdout",
     "output_type": "stream",
     "text": [
      "Hi Rahul and Umar\n"
     ]
    }
   ],
   "source": [
    "# Join a list of words into a string.\n",
    "\n",
    "input_string =[\"Hi\",\"Rahul\",\"and\",\"Umar\"]\n",
    "print(\" \".join(input_string))"
   ]
  },
  {
   "cell_type": "code",
   "execution_count": 42,
   "id": "2e96dfd2-436b-4429-a8bf-dcdd931c5583",
   "metadata": {},
   "outputs": [
    {
     "data": {
      "text/plain": [
       "'Hi_Umar_javed_and_Rahul_kumar'"
      ]
     },
     "execution_count": 42,
     "metadata": {},
     "output_type": "execute_result"
    }
   ],
   "source": [
    "''' Convert a string where words are separated by spaces to one where words\n",
    " are separated by underscores.'''\n",
    "\n",
    "input_string = \"Hi Umar javed and Rahul kumar\"\n",
    "input_string.replace(\" \",\"_\")\n"
   ]
  },
  {
   "cell_type": "code",
   "execution_count": 44,
   "id": "31ad7777-6ba6-4170-998a-f7baa14a6358",
   "metadata": {},
   "outputs": [
    {
     "name": "stdout",
     "output_type": "stream",
     "text": [
      "True\n"
     ]
    }
   ],
   "source": [
    "# Check if a string starts with a specific word or phrase.\n",
    "\n",
    "input_string = \"umar javed and rahul kumar are freind\"\n",
    "\n",
    "print(input_string.startswith('umar'))"
   ]
  },
  {
   "cell_type": "code",
   "execution_count": 46,
   "id": "a3040bdd-4849-4fad-a56f-0f4b84345cbf",
   "metadata": {},
   "outputs": [
    {
     "name": "stdout",
     "output_type": "stream",
     "text": [
      "False\n"
     ]
    }
   ],
   "source": [
    "# Check if a string ends with a specific word or phrase.\n",
    "\n",
    "input_string = \"umar javed and rahul kumar are freind\"\n",
    "\n",
    "print(input_string.endswith('umar'))"
   ]
  },
  {
   "cell_type": "code",
   "execution_count": 48,
   "id": "4e932dda-4d72-4718-bf49-5aded2506d69",
   "metadata": {},
   "outputs": [
    {
     "name": "stdout",
     "output_type": "stream",
     "text": [
      "Umar Javed And Rahul Kumar Are Freind\n"
     ]
    }
   ],
   "source": [
    "# Convert a string to title case (e.g., \"hello world\" to \"Hello World\").\n",
    "\n",
    "input_string = \"umar javed and rahul kumar are freind\"\n",
    "\n",
    "print(input_string.title())"
   ]
  },
  {
   "cell_type": "code",
   "execution_count": 66,
   "id": "1d95bffb-7bf2-4e7d-a6e8-7f60166d18f9",
   "metadata": {},
   "outputs": [
    {
     "name": "stdin",
     "output_type": "stream",
     "text": [
      "Enter a string:  umar javed\n"
     ]
    },
    {
     "name": "stdout",
     "output_type": "stream",
     "text": [
      "longest_word is:  javed\n",
      "length_of_longest_word is:  5\n"
     ]
    }
   ],
   "source": [
    "# Find the longest word in a string.\n",
    "\n",
    "input_string = input(\"Enter a string: \")\n",
    "\n",
    "longest_word = max(input_string.split(), key = len)\n",
    "\n",
    "print(\"longest_word is: \",longest_word)\n",
    "print(\"length_of_longest_word is: \",len(longest_word))"
   ]
  },
  {
   "cell_type": "code",
   "execution_count": 74,
   "id": "19bcc8b1-3fff-450a-8444-1f6730384b5d",
   "metadata": {},
   "outputs": [
    {
     "name": "stdin",
     "output_type": "stream",
     "text": [
      "Enter a string:  hi umar javed\n"
     ]
    },
    {
     "name": "stdout",
     "output_type": "stream",
     "text": [
      "shortest_word is:  hi\n",
      "length_of_shortest_word is:  2\n"
     ]
    }
   ],
   "source": [
    "# Find the shortest word in a string.\n",
    "\n",
    "input_string = input(\"Enter a string: \")\n",
    "\n",
    "shortest_word = min(input_string.split(), key = len)\n",
    "\n",
    "print(\"shortest_word is: \",shortest_word)\n",
    "print(\"length_of_shortest_word is: \",len(shortest_word))"
   ]
  },
  {
   "cell_type": "code",
   "execution_count": 81,
   "id": "d2794ae9-bbc3-4e97-99ff-1c082444d30b",
   "metadata": {},
   "outputs": [
    {
     "name": "stdin",
     "output_type": "stream",
     "text": [
      "Enetr a string umar javed\n"
     ]
    },
    {
     "name": "stdout",
     "output_type": "stream",
     "text": [
      "javed umar\n"
     ]
    }
   ],
   "source": [
    "# Reverse the order of words in a string.\n",
    "\n",
    "input_string = input(\"Enetr a string\")\n",
    "\n",
    "reverse_string = input_string.split()\n",
    "\n",
    "reverse_string = list(reversed(reverse_string))\n",
    "\n",
    "print(\" \".join(reverse_string))"
   ]
  },
  {
   "cell_type": "code",
   "execution_count": 91,
   "id": "6e1ea6c6-a53d-4805-89de-9ad28acefb0f",
   "metadata": {},
   "outputs": [
    {
     "name": "stdin",
     "output_type": "stream",
     "text": [
      "Enter a string umar123\n"
     ]
    },
    {
     "name": "stdout",
     "output_type": "stream",
     "text": [
      "True\n"
     ]
    }
   ],
   "source": [
    "# Check if a string is alphanumeric.\n",
    "\n",
    "input_string = input(\"Enter a string\")\n",
    "\n",
    "print(input_string.isalnum())"
   ]
  },
  {
   "cell_type": "code",
   "execution_count": 5,
   "id": "2b926ce3-fcd7-4b60-8edc-bb67e1804237",
   "metadata": {},
   "outputs": [
    {
     "name": "stdin",
     "output_type": "stream",
     "text": [
      "Enter a string umar 1 rahul 2 urvesh 3\n"
     ]
    },
    {
     "name": "stdout",
     "output_type": "stream",
     "text": [
      "123\n"
     ]
    }
   ],
   "source": [
    "# Extract all digits from a string.\n",
    "\n",
    "input_string = input(\"Enter a string\")\n",
    "digits = \"\"\n",
    "for char in input_string:\n",
    "    if char.isdigit():\n",
    "        digits += char\n",
    "print(digits)"
   ]
  },
  {
   "cell_type": "code",
   "execution_count": 7,
   "id": "783dfadc-a611-4b60-b9be-af152be09bdc",
   "metadata": {},
   "outputs": [
    {
     "name": "stdin",
     "output_type": "stream",
     "text": [
      "Enter a string:  umar 123\n"
     ]
    },
    {
     "name": "stdout",
     "output_type": "stream",
     "text": [
      "umar\n"
     ]
    }
   ],
   "source": [
    "# Extract all alphabets from a string.\n",
    "\n",
    "input_string = input(\"Enter a string: \")\n",
    "chars = \"\"\n",
    "for char in input_string:\n",
    "    if char.isalpha():\n",
    "        chars += char\n",
    "print(chars)"
   ]
  },
  {
   "cell_type": "code",
   "execution_count": null,
   "id": "50a4a6f4-a140-4b5a-8945-6007835e4b8a",
   "metadata": {},
   "outputs": [
    {
     "name": "stdin",
     "output_type": "stream",
     "text": [
      "Enter a string UMAR javed\n"
     ]
    },
    {
     "name": "stdout",
     "output_type": "stream",
     "text": [
      "4\n"
     ]
    }
   ],
   "source": [
    "#  Count the number of uppercase letters in a string.\n",
    "\n",
    "input_string = input(\"Enter a string\")\n",
    "upper_case = 0\n",
    "for char in input_string:\n",
    "    if char.isupper():\n",
    "        upper_case += 1\n",
    "print(upper_case)"
   ]
  },
  {
   "cell_type": "code",
   "execution_count": 38,
   "id": "5d48c72b-f90d-4fd6-a155-6891f02eb1ff",
   "metadata": {},
   "outputs": [
    {
     "name": "stdin",
     "output_type": "stream",
     "text": [
      "Enter a string Umar Javed\n"
     ]
    },
    {
     "name": "stdout",
     "output_type": "stream",
     "text": [
      "7\n"
     ]
    }
   ],
   "source": [
    "# count the number of uppercase letters in a string.\n",
    "\n",
    "input_string = input(\"Enter a string\")\n",
    "lower_case = 0\n",
    "for char in input_string:\n",
    "    if char.islower():\n",
    "        lower_case += 1\n",
    "print(lower_case)"
   ]
  },
  {
   "cell_type": "code",
   "execution_count": 41,
   "id": "89a5ef27-4769-42ed-9b5a-5a10f5ed6b6a",
   "metadata": {},
   "outputs": [
    {
     "name": "stdin",
     "output_type": "stream",
     "text": [
      "Enter a string UMAR javed\n"
     ]
    },
    {
     "name": "stdout",
     "output_type": "stream",
     "text": [
      "umar JAVED\n"
     ]
    }
   ],
   "source": [
    "#  Swap the case of each character in a string.\n",
    "input_string = input(\"Enter a string\")\n",
    "\n",
    "swape_string= input_string.swapcase()\n",
    "\n",
    "print(swape_string)"
   ]
  },
  {
   "cell_type": "code",
   "execution_count": 48,
   "id": "1cf9e28e-caf7-4722-a387-fb4cb31fc950",
   "metadata": {},
   "outputs": [
    {
     "name": "stdout",
     "output_type": "stream",
     "text": [
      " mar javed\n"
     ]
    }
   ],
   "source": [
    "# Remove a specific word from a string.\n",
    "\n",
    "input_string = \"umar javed\"\n",
    "new_string = input_string.replace('u',' ')\n",
    "print(new_string)\n"
   ]
  },
  {
   "cell_type": "code",
   "execution_count": 1,
   "id": "1f0e298f-bfa7-4880-a7ed-4151ac56150c",
   "metadata": {},
   "outputs": [
    {
     "name": "stdout",
     "output_type": "stream",
     "text": [
      "example@email.com is a valid email address.\n"
     ]
    }
   ],
   "source": [
    "# check if a string is a valid email address\n",
    "\n",
    "def is_valid_email(email):\n",
    "    if \"@\" in email:\n",
    "        return True\n",
    "    else:\n",
    "        return False\n",
    "\n",
    "# Test the function\n",
    "email = \"example@email.com\"\n",
    "if is_valid_email(email):\n",
    "    print(f\"{email} is a valid email address.\")\n",
    "else:\n",
    "    print(f\"{email} is not a valid email address.\")"
   ]
  },
  {
   "cell_type": "code",
   "execution_count": 2,
   "id": "efedc208-ccf8-43ac-a682-ec5dfaf76cbf",
   "metadata": {},
   "outputs": [
    {
     "name": "stdin",
     "output_type": "stream",
     "text": [
      "Enetr a email id:  umarjavedaiml21@gmail.com\n"
     ]
    },
    {
     "name": "stdout",
     "output_type": "stream",
     "text": [
      "This is valid email address\n"
     ]
    }
   ],
   "source": [
    "intput_string = input(\"Enetr a email id: \")\n",
    "if \"@\" in email:\n",
    "    print(\"This is valid email address\")\n",
    "else:\n",
    "    print(\"Not valid\")"
   ]
  },
  {
   "cell_type": "code",
   "execution_count": 7,
   "id": "a954815c-488a-47a2-b72c-ac43d4a8aa22",
   "metadata": {},
   "outputs": [
    {
     "name": "stdin",
     "output_type": "stream",
     "text": [
      "Enetr a email id:  umarjavedaiml21@gmail.co\n"
     ]
    },
    {
     "name": "stdout",
     "output_type": "stream",
     "text": [
      "user name:  umarjavedaiml21\n"
     ]
    }
   ],
   "source": [
    "# Extract the username from an email address string.\n",
    "\n",
    "input_string = input(\"Enetr a email id: \")\n",
    "\n",
    "username = input_string.split('@')[0]\n",
    "\n",
    "print(\"user name: \",username)"
   ]
  },
  {
   "cell_type": "code",
   "execution_count": 9,
   "id": "62427bc0-14fb-4657-83f7-75687a61b170",
   "metadata": {},
   "outputs": [
    {
     "name": "stdin",
     "output_type": "stream",
     "text": [
      "Enetr a email id umarjavedaiml21@gmail.com\n"
     ]
    },
    {
     "name": "stdout",
     "output_type": "stream",
     "text": [
      "Domain: gmail.com\n"
     ]
    }
   ],
   "source": [
    "# Extract the domain name from an email address string\n",
    "\n",
    "input_email = input(\"Enetr a email id\")\n",
    "\n",
    "domain = input_email.split(\"@\")[1]\n",
    "\n",
    "print(\"Domain:\",domain)"
   ]
  },
  {
   "cell_type": "code",
   "execution_count": 12,
   "id": "5bcc650f-9b1e-4c8b-bb70-bff39efcee56",
   "metadata": {},
   "outputs": [
    {
     "name": "stdin",
     "output_type": "stream",
     "text": [
      "Enetr a string umar   javed\n"
     ]
    },
    {
     "name": "stdout",
     "output_type": "stream",
     "text": [
      "umar javed\n"
     ]
    }
   ],
   "source": [
    "# Replace multiple spaces in a string with a single space.\n",
    "\n",
    "input_string = input(\"Enetr a string\")\n",
    "\n",
    "new_string = \" \".join(input_string.split())\n",
    "\n",
    "print(new_string)"
   ]
  },
  {
   "cell_type": "code",
   "execution_count": 20,
   "id": "ce9a1a39-baed-4308-891a-11b587e43baa",
   "metadata": {},
   "outputs": [
    {
     "name": "stdin",
     "output_type": "stream",
     "text": [
      "Enter a URL to check:  https://yellow-engineer-orkzl.pwskills.app/lab/tree/work\n"
     ]
    },
    {
     "name": "stdout",
     "output_type": "stream",
     "text": [
      "Valid URL\n"
     ]
    }
   ],
   "source": [
    "# Check if a string is a valid URL\n",
    "\n",
    "import urllib.parse\n",
    "\n",
    "url_to_check = input(\"Enter a URL to check: \")\n",
    "\n",
    "try:\n",
    "    urllib.parse.urlparse(url_to_check)\n",
    "    print(\"Valid URL\")\n",
    "except ValueError:\n",
    "    print(\"Invalid URL\")\n"
   ]
  },
  {
   "cell_type": "code",
   "execution_count": 21,
   "id": "108b28b1-8b20-4476-8ff2-9667eba5be6d",
   "metadata": {},
   "outputs": [
    {
     "name": "stdin",
     "output_type": "stream",
     "text": [
      "Enter a URL:  https://yellow-engineer-orkzl.pwskills.app/lab/tree/work\n"
     ]
    },
    {
     "name": "stdout",
     "output_type": "stream",
     "text": [
      "Protocol: https\n"
     ]
    }
   ],
   "source": [
    "# Extract the protocol (http or https) from a URL string.\n",
    "\n",
    "url = input(\"Enter a URL: \")\n",
    "\n",
    "parts = url.split(\"://\")\n",
    "\n",
    "if len(parts) == 2:\n",
    "    protocol = parts[0]\n",
    "    print(\"Protocol:\", protocol)\n",
    "else:\n",
    "    print(\"Invalid URL format. Please include '://' in the URL.\")\n"
   ]
  },
  {
   "cell_type": "code",
   "execution_count": 37,
   "id": "7652f95a-ff96-4119-87b3-0f109a77f91c",
   "metadata": {},
   "outputs": [
    {
     "name": "stdin",
     "output_type": "stream",
     "text": [
      "Enter a string umar javed how are you\n"
     ]
    },
    {
     "name": "stdout",
     "output_type": "stream",
     "text": [
      "'u': 2\n",
      "'m': 1\n",
      "'a': 3\n",
      "'r': 2\n",
      "' ': 4\n",
      "'j': 1\n",
      "'v': 1\n",
      "'e': 2\n",
      "'d': 1\n",
      "'h': 1\n",
      "'o': 2\n",
      "'w': 1\n",
      "'y': 1\n"
     ]
    }
   ],
   "source": [
    "# Find the frequency of each character in a string.\n",
    "\n",
    "\n",
    "input_string = input(\"Enter a string\")\n",
    "\n",
    "frequency = {}\n",
    "\n",
    "for char in input_string:\n",
    "    if char in frequency:\n",
    "        frequency[char] += 1\n",
    "    else:\n",
    "        frequency[char] = 1\n",
    "for char, count in frequency.items():\n",
    "    print(f\"'{char}': {count}\")\n"
   ]
  },
  {
   "cell_type": "code",
   "execution_count": 22,
   "id": "0b81aa68-3d04-4555-b975-94130362495d",
   "metadata": {},
   "outputs": [
    {
     "name": "stdout",
     "output_type": "stream",
     "text": [
      "Original string: Hello, World! This is a test string.\n",
      "String with punctuation removed: Hello World This is a test string\n"
     ]
    }
   ],
   "source": [
    "# Remove all punctuation from a string.\n",
    "\n",
    "import string\n",
    "\n",
    "input_string = \"Hello, World! This is a test string.\"\n",
    "\n",
    "translator = str.maketrans('', '', string.punctuation)\n",
    "\n",
    "cleaned_string = input_string.translate(translator)\n",
    "\n",
    "print(\"Original string:\", input_string)\n",
    "print(\"String with punctuation removed:\", cleaned_string)\n"
   ]
  },
  {
   "cell_type": "code",
   "execution_count": 41,
   "id": "27887a80-647e-4dc3-882c-30cfda759946",
   "metadata": {},
   "outputs": [
    {
     "name": "stdin",
     "output_type": "stream",
     "text": [
      "Enter a string 123\n"
     ]
    },
    {
     "name": "stdout",
     "output_type": "stream",
     "text": [
      "True\n"
     ]
    }
   ],
   "source": [
    "# Check if a string contains only digits.\n",
    "\n",
    "input_string = input(\"Enter a string\")\n",
    "\n",
    "if input_string.isdigit():\n",
    "    print(\"True\")\n",
    "else:\n",
    "    print(\"False\")"
   ]
  },
  {
   "cell_type": "code",
   "execution_count": 43,
   "id": "4bfa1987-3999-4feb-b4bc-7e13361de472",
   "metadata": {},
   "outputs": [
    {
     "name": "stdin",
     "output_type": "stream",
     "text": [
      "Enter a string umar\n"
     ]
    },
    {
     "name": "stdout",
     "output_type": "stream",
     "text": [
      "True\n"
     ]
    }
   ],
   "source": [
    "#  Check if a string contains only alphabets.\n",
    "\n",
    "input_string = input(\"Enter a string\")\n",
    "\n",
    "if input_string.isalpha():\n",
    "    print(\"True\")\n",
    "else:\n",
    "    print(\"False\")\n",
    "    "
   ]
  },
  {
   "cell_type": "code",
   "execution_count": 44,
   "id": "912a96b5-77a5-454c-af8b-a91092fe13b1",
   "metadata": {},
   "outputs": [
    {
     "name": "stdin",
     "output_type": "stream",
     "text": [
      "Enter astring umar javed\n"
     ]
    },
    {
     "name": "stdout",
     "output_type": "stream",
     "text": [
      "['u', 'm', 'a', 'r', ' ', 'j', 'a', 'v', 'e', 'd']\n"
     ]
    }
   ],
   "source": [
    "# Convert a string to a list of characters.\n",
    "\n",
    "input_string = input(\"Enter astring\")\n",
    "\n",
    "new_string = list(input_string)\n",
    "\n",
    "print(new_string)"
   ]
  },
  {
   "cell_type": "code",
   "execution_count": 23,
   "id": "1ff2a873-785b-405e-b850-a5a097436aa6",
   "metadata": {},
   "outputs": [
    {
     "name": "stdin",
     "output_type": "stream",
     "text": [
      "Enter the first string:  umar\n",
      "Enter the second string:  javed\n"
     ]
    },
    {
     "name": "stdout",
     "output_type": "stream",
     "text": [
      "The strings are not anagrams.\n"
     ]
    }
   ],
   "source": [
    " # Check if two strings are anagrams.\n",
    "    \n",
    "str1 = input(\"Enter the first string: \")\n",
    "str2 = input(\"Enter the second string: \")\n",
    "\n",
    "str1 = str1.replace(\" \", \"\").lower()\n",
    "str2 = str2.replace(\" \", \"\").lower()\n",
    "\n",
    "if sorted(str1) == sorted(str2):\n",
    "    print(\"The strings are anagrams.\")\n",
    "else:\n",
    "    print(\"The strings are not anagrams.\")\n"
   ]
  },
  {
   "cell_type": "code",
   "execution_count": 25,
   "id": "a4bd2b47-8fdd-423e-b21e-5d9ed79900e1",
   "metadata": {},
   "outputs": [
    {
     "name": "stdin",
     "output_type": "stream",
     "text": [
      "Enter the text to encrypt:  uyma\n",
      "Enter the Caesar cipher shift (an integer):  2\n"
     ]
    },
    {
     "name": "stdout",
     "output_type": "stream",
     "text": [
      "Encrypted text: waoc\n"
     ]
    }
   ],
   "source": [
    "#  Encode a string using a Caesar cipher.\n",
    "\n",
    "# Input the text to encrypt\n",
    "text = input(\"Enter the text to encrypt: \")\n",
    "\n",
    "# Input the Caesar cipher shift (an integer)\n",
    "shift = int(input(\"Enter the Caesar cipher shift (an integer): \"))\n",
    "\n",
    "# Initialize an empty string for the encrypted text\n",
    "encrypted_text = \"\"\n",
    "\n",
    "# Iterate through each character in the input text\n",
    "for char in text:\n",
    "    if char.isalpha():  # Check if the character is alphabetic\n",
    "        is_upper = char.isupper()  # Check if the character is uppercase\n",
    "\n",
    "        # Convert the character to uppercase for consistent shifting\n",
    "        char = char.upper()\n",
    "\n",
    "        # Apply the Caesar cipher shift\n",
    "        shifted_char = chr(((ord(char) - 65 + shift) % 26) + 65)\n",
    "\n",
    "        # Convert the shifted character back to lowercase if needed\n",
    "        if not is_upper:\n",
    "            shifted_char = shifted_char.lower()\n",
    "\n",
    "        encrypted_text += shifted_char  # Add the shifted character to the encrypted text\n",
    "    else:\n",
    "        # Non-alphabetic characters remain unchanged\n",
    "        encrypted_text += char\n",
    "\n",
    "# Print the encrypted text\n",
    "print(\"Encrypted text:\", encrypted_text)\n"
   ]
  },
  {
   "cell_type": "code",
   "execution_count": 26,
   "id": "65aa4f59-6b5a-4e50-93b6-ad21a8e83237",
   "metadata": {},
   "outputs": [
    {
     "name": "stdin",
     "output_type": "stream",
     "text": [
      "Enter the encoded text to decode:  umar\n",
      "Enter the Caesar cipher shift used for encoding (an integer):  2\n"
     ]
    },
    {
     "name": "stdout",
     "output_type": "stream",
     "text": [
      "Decoded text: skyp\n"
     ]
    }
   ],
   "source": [
    "# Decode a Caesar cipher encoded string.\n",
    "\n",
    "# Input the encoded text\n",
    "encoded_text = input(\"Enter the encoded text to decode: \")\n",
    "\n",
    "# Input the Caesar cipher shift (an integer)\n",
    "shift = int(input(\"Enter the Caesar cipher shift used for encoding (an integer): \"))\n",
    "\n",
    "# Initialize an empty string for the decoded text\n",
    "decoded_text = \"\"\n",
    "\n",
    "# Iterate through each character in the encoded text\n",
    "for char in encoded_text:\n",
    "    if char.isalpha():  # Check if the character is alphabetic\n",
    "        is_upper = char.isupper()  # Check if the character is uppercase\n",
    "\n",
    "        # Convert the character to uppercase for consistent shifting\n",
    "        char = char.upper()\n",
    "\n",
    "        # Apply the Caesar cipher reverse shift\n",
    "        reversed_char = chr(((ord(char) - 65 - shift) % 26) + 65)\n",
    "\n",
    "        # Convert the reversed character back to lowercase if needed\n",
    "        if not is_upper:\n",
    "            reversed_char = reversed_char.lower()\n",
    "\n",
    "        decoded_text += reversed_char  # Add the reversed character to the decoded text\n",
    "    else:\n",
    "        # Non-alphabetic characters remain unchanged\n",
    "        decoded_text += char\n",
    "\n",
    "# Print the decoded text\n",
    "print(\"Decoded text:\", decoded_text)\n"
   ]
  },
  {
   "cell_type": "code",
   "execution_count": 29,
   "id": "9b80ac60-e216-4030-8043-17849e4721dc",
   "metadata": {},
   "outputs": [
    {
     "name": "stdin",
     "output_type": "stream",
     "text": [
      "Enter a string:  umar javed\n"
     ]
    },
    {
     "name": "stdout",
     "output_type": "stream",
     "text": [
      "Unique words: {'javed', 'umar'}\n"
     ]
    }
   ],
   "source": [
    "# Find all unique words in a string.\n",
    "\n",
    "# Input a string\n",
    "input_string = input(\"Enter a string: \")\n",
    "\n",
    "# Remove punctuation and convert to lowercase for case-insensitive comparison\n",
    "input_string = input_string.lower()\n",
    "input_string = ''.join([char for char in input_string if char.isalnum() or char.isspace()])\n",
    "\n",
    "# Split the string into words\n",
    "words = input_string.split()\n",
    "\n",
    "# Create a set to store unique words\n",
    "unique_words = set()\n",
    "\n",
    "# Add words to the set\n",
    "for word in words:\n",
    "    unique_words.add(word)\n",
    "\n",
    "# Print the unique words\n",
    "print(\"Unique words:\", unique_words)\n"
   ]
  },
  {
   "cell_type": "code",
   "execution_count": 30,
   "id": "5793440b-edcb-48e2-b77e-3ca41cdac86d",
   "metadata": {},
   "outputs": [
    {
     "name": "stdin",
     "output_type": "stream",
     "text": [
      "Enter a string:  umar\n"
     ]
    },
    {
     "name": "stdout",
     "output_type": "stream",
     "text": [
      "Total syllables: 2\n"
     ]
    }
   ],
   "source": [
    "# Count the number of syllables in a string.\n",
    "\n",
    "# Input a string\n",
    "input_string = input(\"Enter a string: \")\n",
    "\n",
    "# Remove punctuation and convert to lowercase for consistent counting\n",
    "input_string = input_string.lower()\n",
    "input_string = ''.join([char for char in input_string if char.isalnum() or char.isspace()])\n",
    "\n",
    "# Split the string into words\n",
    "words = input_string.split()\n",
    "\n",
    "# Initialize the total syllable count\n",
    "total_syllables = 0\n",
    "\n",
    "# Define a set of vowels\n",
    "vowels = {'a', 'e', 'i', 'o', 'u'}\n",
    "\n",
    "# Iterate through each word and count syllables\n",
    "for word in words:\n",
    "    # Initialize the syllable count and flag to track if a vowel has been encountered\n",
    "    syllable_count = 0\n",
    "    prev_char_was_vowel = False\n",
    "\n",
    "    for char in word:\n",
    "        if char in vowels:\n",
    "            # If a vowel is encountered, increment the syllable count\n",
    "            if not prev_char_was_vowel:\n",
    "                syllable_count += 1\n",
    "            prev_char_was_vowel = True\n",
    "        else:\n",
    "            prev_char_was_vowel = False\n",
    "\n",
    "    # Adjust the count for some common patterns\n",
    "    if word.endswith('e'):\n",
    "        syllable_count -= 1\n",
    "    if word.endswith('le'):\n",
    "        syllable_count += 1\n",
    "\n",
    "    # Ensure there is at least one syllable for short words\n",
    "    if syllable_count == 0:\n",
    "        syllable_count = 1\n",
    "\n",
    "    # Add the syllable count for the current word to the total count\n",
    "    total_syllables += syllable_count\n",
    "\n",
    "# Print the total syllable count\n",
    "print(\"Total syllables:\", total_syllables)\n"
   ]
  },
  {
   "cell_type": "code",
   "execution_count": 32,
   "id": "5b38334e-83b3-4ea7-acf6-2bb0ff4a3349",
   "metadata": {},
   "outputs": [
    {
     "name": "stdin",
     "output_type": "stream",
     "text": [
      "Enter a string:  umar#\n"
     ]
    },
    {
     "name": "stdout",
     "output_type": "stream",
     "text": [
      "The string contains special characters.\n"
     ]
    }
   ],
   "source": [
    "# Check if a string contains any special characters.\n",
    "\n",
    "import re\n",
    "\n",
    "# Input a string\n",
    "input_string = input(\"Enter a string: \")\n",
    "\n",
    "# Define a regular expression pattern to match special characters\n",
    "special_char_pattern = re.compile(r'[!@#$%^&*()_+{}\\[\\]:;<>,.?~\\\\/\\-=|\\'\"\\\\]')\n",
    "\n",
    "# Search for special characters in the input string\n",
    "if special_char_pattern.search(input_string):\n",
    "    print(\"The string contains special characters.\")\n",
    "else:\n",
    "    print(\"The string does not contain special characters.\")\n"
   ]
  },
  {
   "cell_type": "code",
   "execution_count": 35,
   "id": "7631f3a0-358d-4347-b252-1a4489b802a0",
   "metadata": {},
   "outputs": [
    {
     "name": "stdin",
     "output_type": "stream",
     "text": [
      "Enter a string:  umar\n",
      "Enter the index (1-based) of the word to remove:  1\n"
     ]
    },
    {
     "name": "stdout",
     "output_type": "stream",
     "text": [
      "Modified string: \n"
     ]
    }
   ],
   "source": [
    "# Remove the nth word from a string.\n",
    "\n",
    "# Input a string\n",
    "input_string = input(\"Enter a string: \")\n",
    "\n",
    "# Input the index (n) of the word to remove\n",
    "n = int(input(\"Enter the index (1-based) of the word to remove: \"))\n",
    "\n",
    "# Split the string into words\n",
    "words = input_string.split()\n",
    "\n",
    "# Check if the index is valid\n",
    "if 1 <= n <= len(words):\n",
    "    # Remove the nth word\n",
    "    del words[n - 1]\n",
    "\n",
    "    # Rejoin the words into a string\n",
    "    result_string = ' '.join(words)\n",
    "\n",
    "    print(\"Modified string:\", result_string)\n",
    "else:\n",
    "    print(\"Invalid index. Please enter a valid index.\")\n"
   ]
  },
  {
   "cell_type": "code",
   "execution_count": 27,
   "id": "8369fc38-883a-46d1-9912-9ecfcf7761b5",
   "metadata": {},
   "outputs": [
    {
     "name": "stdin",
     "output_type": "stream",
     "text": [
      "Enter a string:  umar\n"
     ]
    },
    {
     "name": "stdout",
     "output_type": "stream",
     "text": [
      "Most frequent word: umar\n",
      "Frequency: 1\n"
     ]
    }
   ],
   "source": [
    "# Find the most frequent word in a string.\n",
    "\n",
    "# Input a string\n",
    "input_string = input(\"Enter a string: \")\n",
    "\n",
    "# Remove punctuation and convert to lowercase for case-insensitive comparison\n",
    "input_string = input_string.lower()\n",
    "input_string = ''.join([char for char in input_string if char.isalnum() or char.isspace()])\n",
    "\n",
    "# Split the string into words\n",
    "words = input_string.split()\n",
    "\n",
    "# Initialize a dictionary to store word frequencies\n",
    "word_frequency = {}\n",
    "\n",
    "# Count the frequency of each word\n",
    "for word in words:\n",
    "    if word in word_frequency:\n",
    "        word_frequency[word] += 1\n",
    "    else:\n",
    "        word_frequency[word] = 1\n",
    "\n",
    "# Find the most frequent word\n",
    "most_frequent_word = max(word_frequency, key=word_frequency.get)\n",
    "\n",
    "# Print the most frequent word and its frequency\n",
    "print(\"Most frequent word:\", most_frequent_word)\n",
    "print(\"Frequency:\", word_frequency[most_frequent_word])\n"
   ]
  },
  {
   "cell_type": "code",
   "execution_count": 2,
   "id": "53acf040-43ec-4c33-ba07-3d3445981091",
   "metadata": {},
   "outputs": [
    {
     "name": "stdin",
     "output_type": "stream",
     "text": [
      "Enter a string:  umar\n",
      "Enter the index (1-based) where you want to insert the word:  1\n",
      "Enter the word to insert:  a\n"
     ]
    },
    {
     "name": "stdout",
     "output_type": "stream",
     "text": [
      "Modified string: a umar\n"
     ]
    }
   ],
   "source": [
    "# Insert a word at the nth position in a string.\n",
    "\n",
    "# Input a string\n",
    "input_string = input(\"Enter a string: \")\n",
    "\n",
    "# Input the index (n) where you want to insert the word\n",
    "n = int(input(\"Enter the index (1-based) where you want to insert the word: \"))\n",
    "\n",
    "# Input the word to insert\n",
    "word_to_insert = input(\"Enter the word to insert: \")\n",
    "\n",
    "# Split the string into words\n",
    "words = input_string.split()\n",
    "\n",
    "# Check if the index is valid\n",
    "if 1 <= n <= len(words) + 1:\n",
    "    # Insert the word at the specified index\n",
    "    words.insert(n - 1, word_to_insert)\n",
    "\n",
    "    # Rejoin the words into a string\n",
    "    result_string = ' '.join(words)\n",
    "\n",
    "    print(\"Modified string:\", result_string)\n",
    "else:\n",
    "    print(\"Invalid index. Please enter a valid index.\")\n"
   ]
  },
  {
   "cell_type": "code",
   "execution_count": 4,
   "id": "1c8920ed-381d-4aad-92b8-5498806f1b5c",
   "metadata": {},
   "outputs": [
    {
     "name": "stdin",
     "output_type": "stream",
     "text": [
      "Enter a CSV string:  umar,javed\n"
     ]
    },
    {
     "name": "stdout",
     "output_type": "stream",
     "text": [
      "List of lists:\n",
      "['umar', 'javed']\n"
     ]
    }
   ],
   "source": [
    "# Convert a CSV string to a list of lists.\n",
    "\n",
    "# Input a CSV string\n",
    "csv_string = input(\"Enter a CSV string: \")\n",
    "\n",
    "# Split the CSV string into lines\n",
    "lines = csv_string.split('\\n')\n",
    "\n",
    "# Initialize a list to store the resulting list of lists\n",
    "result_list = []\n",
    "\n",
    "# Iterate through each line and split it into fields\n",
    "for line in lines:\n",
    "    if line:\n",
    "        fields = line.split(',')\n",
    "        result_list.append(fields)\n",
    "\n",
    "print(\"List of lists:\")\n",
    "for row in result_list:\n",
    "    print(row)\n"
   ]
  },
  {
   "cell_type": "markdown",
   "id": "8ccbfcd0-8fdb-418b-bc5f-58d352567a35",
   "metadata": {},
   "source": [
    "List based question"
   ]
  },
  {
   "cell_type": "code",
   "execution_count": 6,
   "id": "f747b0e6-c33a-48a3-b6da-146625e16ac5",
   "metadata": {},
   "outputs": [
    {
     "name": "stdout",
     "output_type": "stream",
     "text": [
      "[1, 2, 3, 4, 5, 6, 7, 8, 9, 10]\n"
     ]
    }
   ],
   "source": [
    "# create a list with integer from 1 to 10\n",
    "integer = [i for i in range(1,11)]\n",
    "print(integer)"
   ]
  },
  {
   "cell_type": "code",
   "execution_count": 13,
   "id": "7ba1e026-b28e-41ab-9606-a35a2cb141e2",
   "metadata": {},
   "outputs": [
    {
     "name": "stdout",
     "output_type": "stream",
     "text": [
      "5\n"
     ]
    }
   ],
   "source": [
    "#  Find the length of a list without using the len() function.\n",
    "\n",
    "my_list = [\"Umar\",\"javed\",\"alpha\",\"beta\",\"gama\"]\n",
    "\n",
    "count = 0\n",
    "\n",
    "for i in my_list:\n",
    " \n",
    "    count+=1\n",
    "print(count)\n",
    "\n"
   ]
  },
  {
   "cell_type": "code",
   "execution_count": 16,
   "id": "c8b29667-b67c-4181-b55b-d9f21d5accb1",
   "metadata": {},
   "outputs": [
    {
     "name": "stdout",
     "output_type": "stream",
     "text": [
      "['umar', 'javed', 'alpha']\n"
     ]
    }
   ],
   "source": [
    "# Append an element to the end of a list.\n",
    "\n",
    "my_list = [\"umar\",\"javed\"]\n",
    "\n",
    "new_list = \"alpha\"\n",
    "\n",
    "my_list.append(new_list)\n",
    "\n",
    "print(my_list)"
   ]
  },
  {
   "cell_type": "code",
   "execution_count": 17,
   "id": "7b442c65-0256-477f-94e8-ac7eaad81a8c",
   "metadata": {},
   "outputs": [
    {
     "name": "stdout",
     "output_type": "stream",
     "text": [
      "[1, 2, 3, 4, 10, 5, 6, 7, 8, 9]\n"
     ]
    }
   ],
   "source": [
    "# Insert an element at a specific index in a list.\n",
    "\n",
    "my_list = [1,2,3,4,5,6,7,8,9]\n",
    "\n",
    "new_list = 10\n",
    "\n",
    "index = 4\n",
    "\n",
    "my_list.insert(index,new_list)\n",
    "\n",
    "print(my_list)"
   ]
  },
  {
   "cell_type": "code",
   "execution_count": 18,
   "id": "15f044d7-6b0d-43c1-82f3-839ff743d977",
   "metadata": {},
   "outputs": [
    {
     "name": "stdout",
     "output_type": "stream",
     "text": [
      "[1, 2, 3, 5, 6, 7, 8]\n"
     ]
    }
   ],
   "source": [
    "# Remove an element from a list by its value.\n",
    "\n",
    "my_list = [1,2,3,4,5,6,7,8]\n",
    "\n",
    "remove_element = 4\n",
    "\n",
    "my_list.remove(remove_element)\n",
    "\n",
    "print(my_list)"
   ]
  },
  {
   "cell_type": "code",
   "execution_count": 19,
   "id": "2bae641a-4569-4865-9320-103640efa6a7",
   "metadata": {},
   "outputs": [
    {
     "name": "stdout",
     "output_type": "stream",
     "text": [
      "[1, 2, 3, 4, 5, 7, 8, 9]\n"
     ]
    }
   ],
   "source": [
    "# Remove an element from a list by its index.\n",
    "\n",
    "my_list = [1,2,3,4,5,6,7,8,9]\n",
    "\n",
    "remove_index = 5\n",
    "\n",
    "new_list = my_list.pop(remove_index)\n",
    "\n",
    "print(my_list)"
   ]
  },
  {
   "cell_type": "code",
   "execution_count": 1,
   "id": "d48ec876-4d70-4b61-8a4b-632cd79523b6",
   "metadata": {},
   "outputs": [
    {
     "name": "stdout",
     "output_type": "stream",
     "text": [
      "element exist in my_list is:  6\n"
     ]
    }
   ],
   "source": [
    "# Check if an element exists in a list.\n",
    "\n",
    "my_list = [1,2,3,4,5,6,7,8,9]\n",
    "\n",
    "check_element = 6\n",
    "\n",
    "if check_element in my_list:\n",
    "    print(\"element exist in my_list is: \",check_element,)\n",
    "    \n",
    "else:\n",
    "    print(\"element does'nt exist\")"
   ]
  },
  {
   "cell_type": "code",
   "execution_count": 6,
   "id": "e8329b4b-c032-4b00-9f79-6311cd8acfb9",
   "metadata": {},
   "outputs": [
    {
     "name": "stdout",
     "output_type": "stream",
     "text": [
      "The index of 6 is 5\n"
     ]
    }
   ],
   "source": [
    "# 8. Find the index of the first occurrence of an element in a list.\n",
    "\n",
    "my_list = [1,2,3,4,5,6,7,8,9]\n",
    "\n",
    "search_element = 6\n",
    "\n",
    "index = my_list.index(search_element)\n",
    "\n",
    "print(f\"The index of {search_element} is {index}\")"
   ]
  },
  {
   "cell_type": "code",
   "execution_count": 11,
   "id": "b087f143-a347-4d0b-99cb-8c6218e9c609",
   "metadata": {},
   "outputs": [
    {
     "name": "stdout",
     "output_type": "stream",
     "text": [
      "the count elemnt 8 comes 2 times in the list\n"
     ]
    }
   ],
   "source": [
    "# 9. Count the occurrences of an element in a list.\n",
    "\n",
    "\n",
    "my_list = [1,2,3,4,8,6,7,8,9]\n",
    "\n",
    "count_element = 8\n",
    "\n",
    "count = my_list.count(count_element)\n",
    "\n",
    "print(f\"the count elemnt {count_element} comes {count} times in the list\")"
   ]
  },
  {
   "cell_type": "code",
   "execution_count": 15,
   "id": "89c51f5b-884f-4aae-a195-9122e4a96ba9",
   "metadata": {},
   "outputs": [
    {
     "name": "stdout",
     "output_type": "stream",
     "text": [
      "[90, 80, 70, 60, 50, 40, 30, 20, 10]\n"
     ]
    }
   ],
   "source": [
    "# Reverse the order of elements in a list\n",
    "\n",
    "my_list = [10,20,30,40,50,60,70,80,90]\n",
    "\n",
    "my_list.reverse()\n",
    "\n",
    "print(my_list)"
   ]
  },
  {
   "cell_type": "code",
   "execution_count": 18,
   "id": "c23418dd-3cf0-4ba3-a617-e0cf7ea871cf",
   "metadata": {},
   "outputs": [
    {
     "name": "stdout",
     "output_type": "stream",
     "text": [
      "ascending order list [10, 30, 50, 60, 70]\n"
     ]
    }
   ],
   "source": [
    "# Sort a list in ascending order.\n",
    "    \n",
    "my_list = [60,30,70,10,50]\n",
    "\n",
    "my_list.sort()\n",
    "\n",
    "print(\"ascending order list\",my_list)\n",
    "\n"
   ]
  },
  {
   "cell_type": "code",
   "execution_count": 20,
   "id": "70aae53d-86c7-4fe0-988f-c170891a16a5",
   "metadata": {},
   "outputs": [
    {
     "name": "stdout",
     "output_type": "stream",
     "text": [
      "decending order list [70, 60, 50, 30, 10]\n"
     ]
    }
   ],
   "source": [
    "# Sort a list in descending order.\n",
    "\n",
    "my_list = [60,30,70,10,50]\n",
    "\n",
    "my_list.sort(reverse = True)\n",
    "\n",
    "print(\"decending order list\",my_list)\n"
   ]
  },
  {
   "cell_type": "code",
   "execution_count": 39,
   "id": "775f4975-2a1b-416f-97ed-ff5892ab1fc1",
   "metadata": {},
   "outputs": [
    {
     "name": "stdout",
     "output_type": "stream",
     "text": [
      "[2, 4, 6, 8, 10, 12, 14, 16, 18, 20]\n"
     ]
    }
   ],
   "source": [
    "# Create a list of even numbers from 1 to 20\n",
    "\n",
    "even_number = list(range(2,21,2))\n",
    "\n",
    "print(even_number)"
   ]
  },
  {
   "cell_type": "code",
   "execution_count": 41,
   "id": "c41f15bf-60a8-46ea-919d-4fe7854249e5",
   "metadata": {},
   "outputs": [
    {
     "name": "stdout",
     "output_type": "stream",
     "text": [
      "[1, 3, 5, 7, 9, 11, 13, 15, 17, 19]\n"
     ]
    }
   ],
   "source": [
    "# Create a list of odd numbers from 1 to 20.\n",
    "\n",
    "odd_number = list(range(1,21,2))\n",
    "\n",
    "print(odd_number)"
   ]
  },
  {
   "cell_type": "code",
   "execution_count": 48,
   "id": "b468d1f2-5e14-42fe-bf15-549429c5f4a5",
   "metadata": {},
   "outputs": [
    {
     "name": "stdout",
     "output_type": "stream",
     "text": [
      "the sum of my list is:  45\n"
     ]
    }
   ],
   "source": [
    "# Find the sum of all elements in a list\n",
    "\n",
    "my_list = [1,2,3,4,5,6,7,8,9]\n",
    "\n",
    "sum_of_list = sum(my_list)\n",
    "print(\"the sum of my list is: \",sum_of_list)"
   ]
  },
  {
   "cell_type": "code",
   "execution_count": 51,
   "id": "02252365-33ea-4939-ac41-b8a1df507aeb",
   "metadata": {},
   "outputs": [
    {
     "name": "stdout",
     "output_type": "stream",
     "text": [
      "The maximum value in my list is:  708\n"
     ]
    }
   ],
   "source": [
    "# Find the maximum value in a list.\n",
    "\n",
    "my_list = [10,20,30,405,60,708,60]\n",
    "\n",
    "maximum_value = max(my_list)\n",
    "\n",
    "print(\"The maximum value in my list is: \", maximum_value)"
   ]
  },
  {
   "cell_type": "code",
   "execution_count": 52,
   "id": "ff9632fa-3737-4ad4-9364-fac1bf4d037a",
   "metadata": {},
   "outputs": [
    {
     "name": "stdout",
     "output_type": "stream",
     "text": [
      "The minimum value in my list is:  10\n"
     ]
    }
   ],
   "source": [
    "# 17. Find the minimum value in a list.\n",
    "\n",
    "my_list = [10,20,30,405,60,708,60]\n",
    "\n",
    "minimum_value = min(my_list)\n",
    "\n",
    "print(\"The minimum value in my list is: \", minimum_value)"
   ]
  },
  {
   "cell_type": "code",
   "execution_count": 56,
   "id": "58f5eb24-0d25-4bb2-99fc-5816ad66a7da",
   "metadata": {},
   "outputs": [
    {
     "name": "stdout",
     "output_type": "stream",
     "text": [
      "[1, 4, 9, 16, 25, 36, 49, 64, 81, 100]\n"
     ]
    }
   ],
   "source": [
    "# Create a list of squares of numbers from 1 to 10.\n",
    "\n",
    "square_of_list = [x**2 for x in range(1,1)]\n",
    "\n"
   ]
  },
  {
   "cell_type": "code",
   "execution_count": 62,
   "id": "8d7354cf-bbee-4d32-9dcd-0cbf93090971",
   "metadata": {},
   "outputs": [
    {
     "name": "stdout",
     "output_type": "stream",
     "text": [
      "List of random integers: [56, 88, 60, 16, 39, 63, 59, 16, 50, 47]\n"
     ]
    }
   ],
   "source": [
    "import random\n",
    "\n",
    "random_integers = [random.randint(1, 100) for _ in range(10)]\n",
    "\n",
    "print(\"List of random integers:\", random_integers)"
   ]
  },
  {
   "cell_type": "code",
   "execution_count": 63,
   "id": "1634df85-64f1-4efa-8e07-a77a088d7533",
   "metadata": {},
   "outputs": [
    {
     "name": "stdout",
     "output_type": "stream",
     "text": [
      "[3, 40, 10, 50, 20]\n"
     ]
    }
   ],
   "source": [
    " # Remove duplicates from a list.\n",
    "    \n",
    "my_list = [10,20,3,10,20,40,50]\n",
    "\n",
    "new_list = list(set(my_list))\n",
    "\n",
    "print(new_list)"
   ]
  },
  {
   "cell_type": "code",
   "execution_count": 64,
   "id": "2a3ac394-5871-49bf-bda0-c7aa6e8b1e03",
   "metadata": {},
   "outputs": [
    {
     "name": "stdout",
     "output_type": "stream",
     "text": [
      "[3, 4, 5]\n"
     ]
    }
   ],
   "source": [
    "# Find the common elements between two lists.\n",
    "\n",
    "list1 = [1, 2, 3, 4, 5]\n",
    "list2 = [3, 4, 5, 6, 7]\n",
    "\n",
    "common_elements = [x for x in list1 if x in list2]\n",
    "\n",
    "print(common_elements)\n"
   ]
  },
  {
   "cell_type": "code",
   "execution_count": 2,
   "id": "316c338d-4cb7-4eac-a3fb-a18a4bceb755",
   "metadata": {},
   "outputs": [
    {
     "name": "stdout",
     "output_type": "stream",
     "text": [
      "[1, 2]\n"
     ]
    }
   ],
   "source": [
    "# Find the difference between two lists.\n",
    "\n",
    "list1 = [1, 2, 3, 4, 5]\n",
    "list2 = [3, 4, 5, 6, 7]\n",
    "\n",
    "different_elements = [x for x in list1 if x not in list2]\n",
    "\n",
    "print(different_elements)\n"
   ]
  },
  {
   "cell_type": "code",
   "execution_count": 3,
   "id": "2595b3d3-bdc4-4ec6-88e4-69f71f9025e6",
   "metadata": {},
   "outputs": [
    {
     "name": "stdout",
     "output_type": "stream",
     "text": [
      "[1, 2, 3, 4, 5, 3, 4, 5, 6, 7]\n"
     ]
    }
   ],
   "source": [
    "# Merge two lists.\n",
    "\n",
    "list1 = [1, 2, 3, 4, 5]\n",
    "list2 = [3, 4, 5, 6, 7]\n",
    "\n",
    "new_list = list1 + list2\n",
    "\n",
    "print(new_list)"
   ]
  },
  {
   "cell_type": "code",
   "execution_count": 4,
   "id": "ffc13ad9-060b-48e5-8312-b00607530073",
   "metadata": {},
   "outputs": [
    {
     "name": "stdout",
     "output_type": "stream",
     "text": [
      "[20, 40, 60, 80, 100, 120]\n"
     ]
    }
   ],
   "source": [
    "# Multiply all elements in a list by 2\n",
    "\n",
    "my_list = [10,20,30,40,50,60]\n",
    "\n",
    "multiplied_list = [x*2 for x in my_list]\n",
    "\n",
    "print(multiplied_list)"
   ]
  },
  {
   "cell_type": "code",
   "execution_count": 5,
   "id": "45e3ce3e-1d74-4213-afbb-ea5635321303",
   "metadata": {},
   "outputs": [
    {
     "name": "stdout",
     "output_type": "stream",
     "text": [
      "[3, 5, 7, 9]\n"
     ]
    }
   ],
   "source": [
    "# Filter out all even numbers from a list.\n",
    "\n",
    "my_list = [2,3,4,5,6,7,8,9]\n",
    "\n",
    "my_list = [x for x in my_list if x%2 !=0 ]\n",
    "\n",
    "print(my_list)"
   ]
  },
  {
   "cell_type": "code",
   "execution_count": 6,
   "id": "8b710b5e-9fad-4df4-ab2e-0eebeb6ea7ea",
   "metadata": {},
   "outputs": [
    {
     "name": "stdout",
     "output_type": "stream",
     "text": [
      "[1, 2, 3]\n"
     ]
    }
   ],
   "source": [
    "# Convert a list of strings to a list of integers\n",
    "\n",
    "string_list = [\"1\",\"2\",\"3\"]\n",
    "\n",
    "integer_list = [int(x) for x in string_list]\n",
    "\n",
    "print(integer_list)\n"
   ]
  },
  {
   "cell_type": "code",
   "execution_count": 7,
   "id": "89d1d7e1-fb02-4a03-a00f-7348b1eacb06",
   "metadata": {},
   "outputs": [
    {
     "name": "stdout",
     "output_type": "stream",
     "text": [
      "['1', '2', '3', '4']\n"
     ]
    }
   ],
   "source": [
    " # Convert a list of integers to a list of strings.\n",
    "    \n",
    "integer_list = [1,2,3,4]\n",
    "\n",
    "string_list = [str(x) for x in integer_list]\n",
    "\n",
    "print(string_list)"
   ]
  },
  {
   "cell_type": "code",
   "execution_count": 8,
   "id": "1110d9e5-354f-47eb-abaa-742af530118b",
   "metadata": {},
   "outputs": [
    {
     "name": "stdout",
     "output_type": "stream",
     "text": [
      "[1, 2, 3, 4, 5, 6, 7, 8]\n"
     ]
    }
   ],
   "source": [
    "# Flatten a nested list.\n",
    "\n",
    "nested_list = [[1, 2, 3], [4, 5], [6, 7, 8]]\n",
    "\n",
    "\n",
    "flattened_list = [item for sublist in nested_list for item in sublist]\n",
    "\n",
    "print(flattened_list)\n"
   ]
  },
  {
   "cell_type": "code",
   "execution_count": 1,
   "id": "c85038f9-daf6-4aa2-a495-1128f295deba",
   "metadata": {},
   "outputs": [
    {
     "name": "stdout",
     "output_type": "stream",
     "text": [
      "[0, 1, 1, 2, 3, 5, 8, 13, 21, 34]\n"
     ]
    }
   ],
   "source": [
    "# Create a list of the first 10 Fibonacci numbers\n",
    "\n",
    "a, b = 0, 1\n",
    "\n",
    "fibonacci_numbers = []\n",
    "\n",
    "for _ in range(10):\n",
    "    fibonacci_numbers.append(a)\n",
    "    a, b = b, a + b\n",
    "\n",
    "print(fibonacci_numbers)\n"
   ]
  },
  {
   "cell_type": "code",
   "execution_count": 6,
   "id": "3ab93e41-81c6-4297-8200-d7d1fac833a4",
   "metadata": {},
   "outputs": [
    {
     "name": "stdout",
     "output_type": "stream",
     "text": [
      "The list is sorted in ascending order.\n"
     ]
    }
   ],
   "source": [
    "# Check if a list is sorted\n",
    "\n",
    "my_list = [1,2,3,4,5,6,7,8]\n",
    "\n",
    "sorted_list = True\n",
    "\n",
    "for i in range(len(my_list)-1):\n",
    "    if my_list[i] > my_list[i+1]:\n",
    "        sorted_list = False\n",
    "        break\n",
    "if sorted_list:\n",
    "    print(\"The list is sorted in ascending order.\")\n",
    "else:\n",
    "    print(\"The list is not sorted in ascending order.\")"
   ]
  },
  {
   "cell_type": "code",
   "execution_count": 1,
   "id": "73dfc36c-55ed-4236-b8e9-eb28b829b577",
   "metadata": {},
   "outputs": [
    {
     "name": "stdout",
     "output_type": "stream",
     "text": [
      "List rotated left by 2 positions: [3, 4, 5, 1, 2]\n"
     ]
    }
   ],
   "source": [
    "# Rotate a list to the left by n positions.\n",
    "\n",
    "my_list = [1, 2, 3, 4, 5]\n",
    "\n",
    "n = 2\n",
    "\n",
    "n %= len(my_list) \n",
    "my_list = my_list[n:] + my_list[:n]\n",
    "\n",
    "print(\"List rotated left by\", n, \"positions:\", my_list)\n"
   ]
  },
  {
   "cell_type": "code",
   "execution_count": 7,
   "id": "e3a18d9e-41d5-4b2c-83c9-3e66d3b0d17a",
   "metadata": {},
   "outputs": [
    {
     "name": "stdout",
     "output_type": "stream",
     "text": [
      "List rotated right by 2 positions: [4, 5, 1, 2, 3]\n"
     ]
    }
   ],
   "source": [
    "# Rotate a list to the right by n positions.\n",
    "\n",
    "my_list = [1, 2, 3, 4, 5]\n",
    "\n",
    "n = 2\n",
    "\n",
    "n %= len(my_list) \n",
    "my_list = my_list[-n:] + my_list[:-n]\n",
    "\n",
    "print(\"List rotated right by\", n, \"positions:\", my_list)"
   ]
  },
  {
   "cell_type": "code",
   "execution_count": 15,
   "id": "e15832bb-ff9a-482f-a8ae-f492dc27d08b",
   "metadata": {},
   "outputs": [
    {
     "name": "stdout",
     "output_type": "stream",
     "text": [
      "[2, 3, 5, 7, 11, 13, 17, 19, 23, 29, 31, 37, 41, 43, 47]\n"
     ]
    }
   ],
   "source": [
    "# Create a list of prime numbers up to 50.\n",
    "\n",
    "my_list = []\n",
    "\n",
    "for num in range(2,51):\n",
    "    is_prime = True\n",
    "    for i in range(2, int(num**0.5) + 1):\n",
    "        if num % i == 0:\n",
    "            is_prime = False\n",
    "            break\n",
    "    if is_prime:\n",
    "            my_list.append(num)\n",
    "        \n",
    "print(my_list)"
   ]
  },
  {
   "cell_type": "code",
   "execution_count": 16,
   "id": "0502f713-74fb-48de-8b4b-f09b1aa9f248",
   "metadata": {},
   "outputs": [
    {
     "name": "stdout",
     "output_type": "stream",
     "text": [
      "List split into chunks of size 3 : [[1, 2, 3], [4, 5, 6], [7, 8, 9]]\n"
     ]
    }
   ],
   "source": [
    "# Split a list into chunks of size n.\n",
    "\n",
    "my_list = [1, 2, 3, 4, 5, 6, 7, 8, 9]\n",
    "\n",
    "n = 3  \n",
    "\n",
    "chunks = []\n",
    "\n",
    "for i in range(0, len(my_list), n):\n",
    "    chunk = my_list[i:i + n]\n",
    "    chunks.append(chunk)\n",
    "\n",
    "print(\"List split into chunks of size\", n, \":\", chunks)\n"
   ]
  },
  {
   "cell_type": "code",
   "execution_count": 8,
   "id": "b973a158-7c21-4c88-ae54-9bb27181879d",
   "metadata": {},
   "outputs": [
    {
     "name": "stdout",
     "output_type": "stream",
     "text": [
      "500\n"
     ]
    }
   ],
   "source": [
    "# Find the second largest number in a list.\n",
    "\n",
    "my_list = [1,2,30,40,500,6,7,8,9,]\n",
    "\n",
    "my_list.sort(reverse = True)\n",
    "\n",
    "second_largest = my_list[0]\n",
    "\n",
    "print(second_largest)\n"
   ]
  },
  {
   "cell_type": "code",
   "execution_count": 9,
   "id": "a87a6d3f-415a-4d04-9507-d4b5bff5c597",
   "metadata": {},
   "outputs": [
    {
     "name": "stdout",
     "output_type": "stream",
     "text": [
      "[1, 4, 9, 16, 25, 36, 49, 64, 81]\n"
     ]
    }
   ],
   "source": [
    "# Replace every element in a list with its square\n",
    "\n",
    "my_list = [1,2,3,4,5,6,7,8,9]\n",
    "\n",
    "squared_list = [x**2 for x in my_list]\n",
    "\n",
    "print(squared_list)"
   ]
  },
  {
   "cell_type": "code",
   "execution_count": 10,
   "id": "29bfe233-4a5b-4615-842c-abe678671ab4",
   "metadata": {},
   "outputs": [
    {
     "name": "stdout",
     "output_type": "stream",
     "text": [
      "{'umar': 0, 'javed': 1, 'alpha': 2, 'beta': 3, 'gamma': 4}\n"
     ]
    }
   ],
   "source": [
    "# convert a list to a dictionary where list elements become keys and their indices become values.\n",
    "\n",
    "my_list = [\"umar\",\"javed\",\"alpha\",\"beta\",\"gamma\"]\n",
    "\n",
    "my_dict = {element: index for index, element in enumerate(my_list)}\n",
    "\n",
    "print(my_dict)"
   ]
  },
  {
   "cell_type": "code",
   "execution_count": 14,
   "id": "a2715b11-1211-44b7-9e3c-0c817df9c60a",
   "metadata": {},
   "outputs": [
    {
     "name": "stdout",
     "output_type": "stream",
     "text": [
      "[6, 5, 8, 4, 7, 1, 3, 2, 9]\n"
     ]
    }
   ],
   "source": [
    "# Shuffle the elements of a list randomly.\n",
    "import random\n",
    "\n",
    "my_list = [1,2,3,4,5,6,7,8,9]\n",
    "\n",
    "random.shuffle(my_list)\n",
    "\n",
    "print(my_list)\n"
   ]
  },
  {
   "cell_type": "code",
   "execution_count": 20,
   "id": "c1474a14-f5ad-4044-af24-cbb2b7409df6",
   "metadata": {},
   "outputs": [
    {
     "name": "stdout",
     "output_type": "stream",
     "text": [
      "[1, 1, 2, 6, 24, 120, 720, 5040, 40320, 362880]\n"
     ]
    }
   ],
   "source": [
    "# Create a list of the first 10 factorial numbers.\n",
    "\n",
    "factorial_num = [1]\n",
    "\n",
    "current_factorial = 1\n",
    "\n",
    "for n in range(1,10):\n",
    "    current_factorial *= n\n",
    "    factorial_num.append(current_factorial)\n",
    "print(factorial_num)\n",
    "\n"
   ]
  },
  {
   "cell_type": "code",
   "execution_count": 23,
   "id": "67ccfbfa-db72-463f-aad3-cfd4f1f1e2eb",
   "metadata": {},
   "outputs": [
    {
     "name": "stdout",
     "output_type": "stream",
     "text": [
      "The two lists have at least one common element.\n"
     ]
    }
   ],
   "source": [
    "# Check if two lists have at least one element in common.\n",
    "\n",
    "list1 = [1, 2, 3, 4, 5]\n",
    "list2 = [4, 5, 6, 7, 8]\n",
    "\n",
    "set1 = set(list1)\n",
    "set2 = set(list2)\n",
    "common_elements = set1.intersection(set2)\n",
    "\n",
    "if common_elements:\n",
    "    print(\"The two lists have at least one common element.\")\n",
    "else:\n",
    "    print(\"The two lists have no common elements.\")\n"
   ]
  },
  {
   "cell_type": "code",
   "execution_count": 26,
   "id": "75eb054d-1fe5-4d5a-86f9-ad81d64254ed",
   "metadata": {},
   "outputs": [
    {
     "name": "stdout",
     "output_type": "stream",
     "text": [
      "Empty list: []\n"
     ]
    }
   ],
   "source": [
    "# Remove all elements from a list.\n",
    "\n",
    "my_list = [1,2,3,4,5,6,7,8,9]\n",
    "\n",
    "my_list.clear()\n",
    "\n",
    "print(\"Empty list:\",my_list)"
   ]
  },
  {
   "cell_type": "code",
   "execution_count": 32,
   "id": "7451d52f-eaa1-4bcb-8131-d744dc6294cd",
   "metadata": {},
   "outputs": [
    {
     "name": "stdout",
     "output_type": "stream",
     "text": [
      "Modified list: [1, 2, 0, 4, 0, 6, 0, 8, 0]\n"
     ]
    }
   ],
   "source": [
    "# Replace negative numbers in a list with 0\n",
    "\n",
    "my_list = [1,2,-3,4,-5,6,-7,8,-9]\n",
    "\n",
    "for i in range(len(my_list)):\n",
    "    if my_list[i] < 0:\n",
    "        my_list[i] = 0\n",
    "print(\"Modified list:\", my_list)"
   ]
  },
  {
   "cell_type": "code",
   "execution_count": 34,
   "id": "45fb9ce1-fb19-48fc-b095-aeaa5cbe3e6c",
   "metadata": {},
   "outputs": [
    {
     "name": "stdout",
     "output_type": "stream",
     "text": [
      "['Hello,', 'Umar', 'Javed']\n"
     ]
    }
   ],
   "source": [
    "# Convert a string into a list of words\n",
    "\n",
    "my_string = \"Hello, Umar Javed\"\n",
    "\n",
    "list_of_words = my_string.split()\n",
    "\n",
    "print(list_of_words)"
   ]
  },
  {
   "cell_type": "code",
   "execution_count": 35,
   "id": "8bc343ae-64e9-4cd7-bffb-cd93b502de76",
   "metadata": {},
   "outputs": [
    {
     "name": "stdout",
     "output_type": "stream",
     "text": [
      "Hello, Umar Javed\n"
     ]
    }
   ],
   "source": [
    " # Convert a list of words into a string.\n",
    "\n",
    "word_list = ['Hello,', 'Umar', 'Javed']\n",
    "\n",
    "my_string = \" \".join(word_list)\n",
    "\n",
    "print(my_string)"
   ]
  },
  {
   "cell_type": "code",
   "execution_count": 36,
   "id": "2499b9d1-f71a-48d8-accf-1f2809f88f74",
   "metadata": {},
   "outputs": [
    {
     "name": "stdout",
     "output_type": "stream",
     "text": [
      "[1, 2, 4, 8, 16, 32, 64, 128]\n"
     ]
    }
   ],
   "source": [
    " # Create a list of the first n powers of 2.\n",
    "\n",
    "n = 8\n",
    "\n",
    "power = [2**i for i in range(n)]\n",
    "\n",
    "print(power)"
   ]
  },
  {
   "cell_type": "code",
   "execution_count": 40,
   "id": "59a82a6a-d7ce-4275-9083-377ef47d9f72",
   "metadata": {},
   "outputs": [
    {
     "name": "stdout",
     "output_type": "stream",
     "text": [
      "javed\n"
     ]
    }
   ],
   "source": [
    "# Find the longest string in a list of strings.\n",
    "\n",
    "string_list = [\"umar\",\"javed\",\"goat\",\"eta\",\"zeta\"]\n",
    "\n",
    "longest_string = \"\"\n",
    "\n",
    "for i in string_list:\n",
    "    if len(i)> len(longest_string):\n",
    "        longest_string = i\n",
    "print(longest_string)"
   ]
  },
  {
   "cell_type": "code",
   "execution_count": 42,
   "id": "39980ef5-820a-4059-8a1f-72ded4a00341",
   "metadata": {},
   "outputs": [
    {
     "name": "stdout",
     "output_type": "stream",
     "text": [
      "eta\n"
     ]
    }
   ],
   "source": [
    "# Find the shortest string in a list of strings.\n",
    "\n",
    "string_list = [\"umar\",\"javed\",\"goat\",\"eta\",\"zeta\"]\n",
    "\n",
    "shortest_string = string_list[0]\n",
    "\n",
    "for i in string_list:\n",
    "    if len(i)<len(shortest_string):\n",
    "        shortest_string = i\n",
    "print(shortest_string)"
   ]
  },
  {
   "cell_type": "code",
   "execution_count": 44,
   "id": "01048130-9334-48e9-9e54-9b34c5ab04df",
   "metadata": {},
   "outputs": [
    {
     "name": "stdout",
     "output_type": "stream",
     "text": [
      "[1, 3, 6, 10, 15, 21, 28, 36, 45, 55]\n"
     ]
    }
   ],
   "source": [
    "# Create a list of the first n triangular numbers.\n",
    "\n",
    "n = 10\n",
    "triangular_numbers = []\n",
    "\n",
    "for i in range(1, n + 1):\n",
    "    triangular_numbers.append(i * (i + 1) // 2)\n",
    "\n",
    "print(triangular_numbers)"
   ]
  },
  {
   "cell_type": "code",
   "execution_count": 48,
   "id": "24f8a2b9-2325-4e95-ab64-1890965053dd",
   "metadata": {},
   "outputs": [
    {
     "name": "stdout",
     "output_type": "stream",
     "text": [
      "list_b is a subsequence of list_a\n"
     ]
    }
   ],
   "source": [
    "# Check if a list contains another list as a subsequence.\n",
    "\n",
    "list_a = [1, 2, 3, 4, 5, 6]\n",
    "list_b = [2, 4, 6]\n",
    "\n",
    "if (item in list_a for item in list_b):\n",
    "    print(\"list_b is a subsequence of list_a\")\n",
    "else:\n",
    "    print(\"list_b is not a subsequence of list_a\")\n",
    "\n"
   ]
  },
  {
   "cell_type": "code",
   "execution_count": 49,
   "id": "783af3bf-260b-4b32-80fc-9704bdc5a7c0",
   "metadata": {},
   "outputs": [
    {
     "name": "stdout",
     "output_type": "stream",
     "text": [
      "[1, 5, 3, 4, 2, 6]\n"
     ]
    }
   ],
   "source": [
    "# Swap two elements in a list by their indices.\n",
    "\n",
    "my_list = [1,2,3,4,5,6]\n",
    "\n",
    "index1 = 1\n",
    "index2 = 4\n",
    "\n",
    "temp = my_list[index1]\n",
    "my_list[index1] = my_list[index2]\n",
    "my_list[index2] = temp\n",
    "\n",
    "print(my_list)"
   ]
  },
  {
   "cell_type": "markdown",
   "id": "2075c060-3547-4f0b-b1ee-77dc6a46f3a5",
   "metadata": {},
   "source": [
    "Tuple based problems"
   ]
  },
  {
   "cell_type": "code",
   "execution_count": 1,
   "id": "4eb2ee2e-8d0b-4d35-a0f2-3ba16b64da34",
   "metadata": {},
   "outputs": [
    {
     "name": "stdout",
     "output_type": "stream",
     "text": [
      "(1, 2, 3, 4, 5)\n"
     ]
    }
   ],
   "source": [
    "# Create a tuple with integers from 1 to 5\n",
    "\n",
    "tuple_integer = (1,2,3,4,5)\n",
    "\n",
    "print(tuple_integer)\n",
    "\n"
   ]
  },
  {
   "cell_type": "code",
   "execution_count": 4,
   "id": "7b0a1755-60d8-4b84-899c-ef837e6a7a4b",
   "metadata": {},
   "outputs": [
    {
     "name": "stdout",
     "output_type": "stream",
     "text": [
      "third elemnt of tuple is:  3\n"
     ]
    }
   ],
   "source": [
    "# Access the third element of a tuple.\n",
    "\n",
    "tuple_integer = (1,2,3,4,5,6,7,8,9)\n",
    "\n",
    "third_integer = tuple_integer[2]\n",
    "\n",
    "print(\"third elemnt of tuple is: \",third_integer)"
   ]
  },
  {
   "cell_type": "code",
   "execution_count": 8,
   "id": "77e4494c-2219-4e47-a411-d85e58d27ef5",
   "metadata": {},
   "outputs": [
    {
     "name": "stdout",
     "output_type": "stream",
     "text": [
      "6\n"
     ]
    }
   ],
   "source": [
    "# Find the length of a tuple without using the len() function\n",
    "\n",
    "tuple_integer = (10,20,30,40,50,60)\n",
    "\n",
    "count = 0\n",
    "\n",
    "for _ in tuple_integer:\n",
    "    count +=1\n",
    "print(count)"
   ]
  },
  {
   "cell_type": "code",
   "execution_count": 11,
   "id": "7bcf8914-1e7c-4b63-93e2-ad5e7b58b8da",
   "metadata": {},
   "outputs": [
    {
     "name": "stdout",
     "output_type": "stream",
     "text": [
      "the elemnt 30 comes 2 times in the tuple\n"
     ]
    }
   ],
   "source": [
    "# Count the occurrences of an element in a tuple.\n",
    "\n",
    "my_tuple = (10,20,30,20,40,30,50,60,20)\n",
    "\n",
    "element_to_count = 30\n",
    "\n",
    "count = 0\n",
    "\n",
    "for i in my_tuple:\n",
    "    if i == element_to_count:\n",
    "        count +=1\n",
    "print(f\"the elemnt {element_to_count} comes {count} times in the tuple\")"
   ]
  },
  {
   "cell_type": "code",
   "execution_count": 12,
   "id": "7ed8a355-2e0f-43f6-9605-12a0286b5de3",
   "metadata": {},
   "outputs": [
    {
     "name": "stdout",
     "output_type": "stream",
     "text": [
      "Index of the first occurrence of 20 is: 1\n"
     ]
    }
   ],
   "source": [
    "# Find the index of the first occurrence of an element in a tuple.\n",
    "\n",
    "my_tuple = (10, 20, 30, 40, 50, 20)\n",
    "\n",
    "element_to_find = 20\n",
    "\n",
    "index = my_tuple.index(element_to_find)\n",
    "\n",
    "print(\"Index of the first occurrence of\", element_to_find, \"is:\", index)\n"
   ]
  },
  {
   "cell_type": "code",
   "execution_count": 13,
   "id": "cf69bc58-1001-490c-b5f6-594795af2d9e",
   "metadata": {},
   "outputs": [
    {
     "name": "stdout",
     "output_type": "stream",
     "text": [
      "Element exist in tuple\n"
     ]
    }
   ],
   "source": [
    "# Check if an element exists in a tuple.\n",
    "\n",
    "my_tuple = (10,20,30,40,50,60)\n",
    "\n",
    "element_to_check = 30\n",
    "\n",
    "if element_to_check in my_tuple:\n",
    "    print(\"Element exist in tuple\")\n",
    "else:\n",
    "    print(\"Element does not exist in tuple\")"
   ]
  },
  {
   "cell_type": "code",
   "execution_count": 14,
   "id": "1808ceac-b7eb-41aa-b342-5c307dde6f19",
   "metadata": {},
   "outputs": [
    {
     "name": "stdout",
     "output_type": "stream",
     "text": [
      "[1, 2, 3, 4, 5, 6]\n"
     ]
    }
   ],
   "source": [
    "# convert a tuple in a list\n",
    "\n",
    "my_tuple = (1,2,3,4,5,6)\n",
    "\n",
    "my_list = list(my_tuple)\n",
    "\n",
    "print(my_list)"
   ]
  },
  {
   "cell_type": "code",
   "execution_count": 16,
   "id": "14769684-7edd-4875-8485-79f85e576b82",
   "metadata": {},
   "outputs": [
    {
     "name": "stdout",
     "output_type": "stream",
     "text": [
      "(1, 2, 3, 4, 5, 6, 7, 8, 9)\n"
     ]
    }
   ],
   "source": [
    "# Convert a list to a tuple.\n",
    "\n",
    "my_list = [1,2,3,4,5,6,7,8,9]\n",
    "\n",
    "my_tuple = tuple(my_list)\n",
    "\n",
    "print(my_tuple)"
   ]
  },
  {
   "cell_type": "code",
   "execution_count": 18,
   "id": "0ef6c9df-1fa7-4175-81ae-01c9abcb7eb3",
   "metadata": {},
   "outputs": [
    {
     "name": "stdout",
     "output_type": "stream",
     "text": [
      "var1: 1\n",
      "var2: 2\n",
      "var3: 3\n"
     ]
    }
   ],
   "source": [
    "# Unpack the elements of a tuple into variables.\n",
    "\n",
    "my_tuple = (1,2,3,4,5)\n",
    "\n",
    "var1,var2,var3,var4,var5 = my_tuple\n",
    "\n",
    "print(\"var1:\",var1)\n",
    "print(\"var2:\",var2)\n",
    "print(\"var3:\",var3)"
   ]
  },
  {
   "cell_type": "code",
   "execution_count": 20,
   "id": "905c9e43-2140-4254-aaea-013945d070f4",
   "metadata": {},
   "outputs": [
    {
     "name": "stdout",
     "output_type": "stream",
     "text": [
      "(2, 4, 6, 8, 10)\n"
     ]
    }
   ],
   "source": [
    "# Create a tuple of even numbers from 1 to 10.\n",
    "\n",
    "tuple_of_even_num = tuple(x for x in range(1,11) if x%2 ==0)\n",
    "\n",
    "print(tuple_of_even_num)"
   ]
  },
  {
   "cell_type": "code",
   "execution_count": 23,
   "id": "41a5f241-b802-4b1f-9744-b9ad524afc4d",
   "metadata": {},
   "outputs": [
    {
     "name": "stdout",
     "output_type": "stream",
     "text": [
      "(1, 3, 5, 7, 9)\n"
     ]
    }
   ],
   "source": [
    " # Create a tuple of odd numbers from 1 to 10.\n",
    "    \n",
    "tuple_of_odd_num = tuple(x for x in range (1,11) if x%2 != 0)\n",
    "\n",
    "print(tuple_of_odd_num)"
   ]
  },
  {
   "cell_type": "code",
   "execution_count": 24,
   "id": "fd5dce9f-45a2-42c8-afc3-374b9dd46145",
   "metadata": {},
   "outputs": [
    {
     "name": "stdout",
     "output_type": "stream",
     "text": [
      "(1, 2, 3, 4, 5, 6, 7, 8)\n"
     ]
    }
   ],
   "source": [
    "# Concatenate two tuples.\n",
    "\n",
    "tuple1 = (1,2,3,4)\n",
    "tuple2 = (5,6,7,8)\n",
    "\n",
    "concatenate_tuple = tuple1 + tuple2\n",
    "\n",
    "print(concatenate_tuple)"
   ]
  },
  {
   "cell_type": "code",
   "execution_count": 26,
   "id": "cef9be6b-2779-4f36-b6e4-0cade7e2118b",
   "metadata": {},
   "outputs": [
    {
     "name": "stdout",
     "output_type": "stream",
     "text": [
      "(1, 2, 3, 4, 5, 1, 2, 3, 4, 5, 1, 2, 3, 4, 5)\n"
     ]
    }
   ],
   "source": [
    "# Repeat a tuple three times.\n",
    "\n",
    "my_tuple =  (1,2,3,4,5)\n",
    "\n",
    "repeated_tuple = my_tuple*3\n",
    "\n",
    "print(repeated_tuple)"
   ]
  },
  {
   "cell_type": "code",
   "execution_count": 33,
   "id": "14595f7a-fd83-41d0-a6c4-ab7195254297",
   "metadata": {},
   "outputs": [
    {
     "name": "stdout",
     "output_type": "stream",
     "text": [
      "The tuple is empty.\n"
     ]
    }
   ],
   "source": [
    "#  Check if a tuple is empty.\n",
    "\n",
    "empty_tuple = ()\n",
    "\n",
    "if not empty_tuple:\n",
    "    print(\"The tuple is empty.\")\n",
    "else:\n",
    "    print(\"The tuple is not empty.\")\n"
   ]
  },
  {
   "cell_type": "code",
   "execution_count": 34,
   "id": "ed4e6a03-9da8-4c1e-ad51-5706c393609f",
   "metadata": {},
   "outputs": [
    {
     "name": "stdout",
     "output_type": "stream",
     "text": [
      "((1, 2, 3), ('u', 'm', 'a', 'r'), (True, False))\n"
     ]
    }
   ],
   "source": [
    "# Create a nested tuple.\n",
    "\n",
    "nested_tuple = ((1,2,3),('u','m','a','r'),(True,False))\n",
    "\n",
    "print(nested_tuple)"
   ]
  },
  {
   "cell_type": "code",
   "execution_count": 35,
   "id": "701897af-a480-4e56-9146-9db2638821d2",
   "metadata": {},
   "outputs": [
    {
     "name": "stdout",
     "output_type": "stream",
     "text": [
      "(1, 2, 3)\n"
     ]
    }
   ],
   "source": [
    "# Access the first element of a nested tuple.\n",
    "\n",
    "nested_tuple = ((1,2,3),('u','m','a','r'),(True,False))\n",
    "\n",
    "first_elemnt = nested_tuple[0]\n",
    "\n",
    "print(first_elemnt)"
   ]
  },
  {
   "cell_type": "code",
   "execution_count": 36,
   "id": "73aca55e-1315-4c33-ba71-075ebda51c44",
   "metadata": {},
   "outputs": [
    {
     "name": "stdout",
     "output_type": "stream",
     "text": [
      "(1,)\n"
     ]
    }
   ],
   "source": [
    "# Create a tuple with a single element.\n",
    "\n",
    "single_element_tuple = (1,)\n",
    "\n",
    "print(single_element_tuple)"
   ]
  },
  {
   "cell_type": "code",
   "execution_count": 37,
   "id": "afe89d58-a265-409c-84e3-f766d29a1b8e",
   "metadata": {},
   "outputs": [
    {
     "name": "stdout",
     "output_type": "stream",
     "text": [
      "tuple1 == tuple2: False\n",
      "tuple1 != tuple2: True\n",
      "tuple1 < tuple2: True\n",
      "tuple1 <= tuple2: True\n",
      "tuple1 > tuple2: False\n",
      "tuple1 >= tuple2: False\n"
     ]
    }
   ],
   "source": [
    "#  compare two tuple\n",
    "\n",
    "tuple1 = (1, 2, 3)\n",
    "tuple2 = (1, 2, 4)\n",
    "\n",
    "\n",
    "print(\"tuple1 == tuple2:\", tuple1 == tuple2)  \n",
    "print(\"tuple1 != tuple2:\", tuple1 != tuple2)  \n",
    "print(\"tuple1 < tuple2:\", tuple1 < tuple2)    \n",
    "print(\"tuple1 <= tuple2:\", tuple1 <= tuple2)  \n",
    "print(\"tuple1 > tuple2:\", tuple1 > tuple2)    \n",
    "print(\"tuple1 >= tuple2:\", tuple1 >= tuple2)"
   ]
  },
  {
   "cell_type": "code",
   "execution_count": 38,
   "id": "d86fb1d2-f26c-403c-9479-8da3ffe993c0",
   "metadata": {},
   "outputs": [
    {
     "ename": "NameError",
     "evalue": "name 'my_tuple' is not defined",
     "output_type": "error",
     "traceback": [
      "\u001b[0;31m---------------------------------------------------------------------------\u001b[0m",
      "\u001b[0;31mNameError\u001b[0m                                 Traceback (most recent call last)",
      "Cell \u001b[0;32mIn[38], line 7\u001b[0m\n\u001b[1;32m      3\u001b[0m my_tuple \u001b[38;5;241m=\u001b[39m (\u001b[38;5;241m1\u001b[39m,\u001b[38;5;241m2\u001b[39m,\u001b[38;5;241m3\u001b[39m,\u001b[38;5;241m4\u001b[39m,\u001b[38;5;241m5\u001b[39m,\u001b[38;5;241m6\u001b[39m)\n\u001b[1;32m      5\u001b[0m \u001b[38;5;28;01mdel\u001b[39;00m my_tuple\n\u001b[0;32m----> 7\u001b[0m \u001b[38;5;28mprint\u001b[39m(\u001b[43mmy_tuple\u001b[49m)\n",
      "\u001b[0;31mNameError\u001b[0m: name 'my_tuple' is not defined"
     ]
    }
   ],
   "source": [
    "#  Delete a tuple\n",
    "\n",
    "my_tuple = (1,2,3,4,5,6)\n",
    "\n",
    "del my_tuple\n",
    "\n",
    "print(my_tuple)"
   ]
  },
  {
   "cell_type": "code",
   "execution_count": 40,
   "id": "ef025c15-ad86-4816-9a3c-eeb1dea6e809",
   "metadata": {},
   "outputs": [
    {
     "name": "stdout",
     "output_type": "stream",
     "text": [
      "(4, 5, 6, 7)\n"
     ]
    }
   ],
   "source": [
    "#  slice a tuple\n",
    "\n",
    "my_tuple = (1,2,3,4,5,6,7,8,9)\n",
    "\n",
    "sliced_tuple = my_tuple[3:7]\n",
    "\n",
    "print(sliced_tuple)"
   ]
  },
  {
   "cell_type": "code",
   "execution_count": 41,
   "id": "888f9e06-9f93-4cfd-b3fc-fe93465141d5",
   "metadata": {},
   "outputs": [
    {
     "name": "stdout",
     "output_type": "stream",
     "text": [
      "400\n"
     ]
    }
   ],
   "source": [
    "# Find the maximum value in a tuple.\n",
    "\n",
    "my_tuple = (10,20,30,50,400,200)\n",
    "\n",
    "max_value = max(my_tuple)\n",
    "\n",
    "print(max_value)"
   ]
  },
  {
   "cell_type": "code",
   "execution_count": 42,
   "id": "b278f4e2-6553-4543-840c-2f5ad50e21b4",
   "metadata": {},
   "outputs": [
    {
     "name": "stdout",
     "output_type": "stream",
     "text": [
      "10\n"
     ]
    }
   ],
   "source": [
    "# Find the minimum value in a tuple.\n",
    "\n",
    "my_tuple = (10,20,30,50,400,200)\n",
    "\n",
    "min_value = min(my_tuple)\n",
    "\n",
    "print(min_value)"
   ]
  },
  {
   "cell_type": "code",
   "execution_count": 43,
   "id": "c9434015-3bdb-4869-8bfb-0266dc5d0d2e",
   "metadata": {},
   "outputs": [
    {
     "name": "stdout",
     "output_type": "stream",
     "text": [
      "('u', 'm', 'a', 'r', ' ', 'j', 'a', 'v', 'e', 'd')\n"
     ]
    }
   ],
   "source": [
    "# convert a string to a tuple of character\n",
    "\n",
    "my_string = \"umar javed\"\n",
    "\n",
    "tuple_of_charcter = tuple(my_string)\n",
    "\n",
    "print(tuple_of_charcter)"
   ]
  },
  {
   "cell_type": "code",
   "execution_count": 45,
   "id": "a5f78253-a47e-48b6-ab0f-b26180099392",
   "metadata": {},
   "outputs": [
    {
     "name": "stdout",
     "output_type": "stream",
     "text": [
      "umar javed\n"
     ]
    }
   ],
   "source": [
    "# Convert a tuple of characters to a string.\n",
    "\n",
    "tuple_of_character = ('u', 'm', 'a', 'r', ' ', 'j', 'a', 'v', 'e', 'd')\n",
    "\n",
    "string_from_tuple = \"\".join(tuple_of_character)\n",
    "\n",
    "print(string_from_tuple)"
   ]
  },
  {
   "cell_type": "code",
   "execution_count": 46,
   "id": "0ca40ff1-ca4d-4371-ab4a-097148fce801",
   "metadata": {},
   "outputs": [
    {
     "name": "stdout",
     "output_type": "stream",
     "text": [
      "(1, 'hello', 3.14, True)\n"
     ]
    }
   ],
   "source": [
    "# Create a tuple from multiple data types.\n",
    "\n",
    "mixed_tuple = (1, \"hello\", 3.14, True)\n",
    "\n",
    "print(mixed_tuple)"
   ]
  },
  {
   "cell_type": "code",
   "execution_count": 47,
   "id": "fe3c11c0-6ffe-4755-a8e1-c80c5451038a",
   "metadata": {},
   "outputs": [
    {
     "name": "stdout",
     "output_type": "stream",
     "text": [
      "tuple1 and tuple2 are identical: True\n",
      "tuple1 and tuple3 are identical: False\n"
     ]
    }
   ],
   "source": [
    "# Check if two tuples are identical.\n",
    "\n",
    "tuple1 = (1, 2, 3)\n",
    "tuple2 = (1, 2, 3)\n",
    "tuple3 = (4, 5, 6)\n",
    "\n",
    "are_identical1 = tuple1 == tuple2\n",
    "are_identical2 = tuple1 == tuple3\n",
    "\n",
    "print(\"tuple1 and tuple2 are identical:\", are_identical1)\n",
    "print(\"tuple1 and tuple3 are identical:\", are_identical2)"
   ]
  },
  {
   "cell_type": "code",
   "execution_count": 48,
   "id": "c0a93a53-f1ce-4c70-8475-135027d77eab",
   "metadata": {},
   "outputs": [
    {
     "name": "stdout",
     "output_type": "stream",
     "text": [
      "(1, 2, 4, 5, 6, 8, 9)\n"
     ]
    }
   ],
   "source": [
    "# Sort the elements of a tuple.\n",
    "\n",
    "my_tuple = (2,5,1,6,8,4,9)\n",
    "\n",
    "sorted_tuple = tuple(sorted(my_tuple))\n",
    "\n",
    "print(sorted_tuple)"
   ]
  },
  {
   "cell_type": "code",
   "execution_count": 49,
   "id": "80a02cf5-debf-4f12-abd4-9545b3e58137",
   "metadata": {},
   "outputs": [
    {
     "name": "stdout",
     "output_type": "stream",
     "text": [
      "('1', '2', '3', '4', '5')\n"
     ]
    }
   ],
   "source": [
    "# Convert a tuple of integers to a tuple of strings.\n",
    "\n",
    "tuple_of_integer = (1,2,3,4,5)\n",
    "\n",
    "tuple_of_string = tuple(str(i) for i in tuple_of_integer)\n",
    "\n",
    "print(tuple_of_string)"
   ]
  },
  {
   "cell_type": "code",
   "execution_count": 51,
   "id": "510dfb2c-c339-4df1-95ea-8abaa2841176",
   "metadata": {},
   "outputs": [
    {
     "name": "stdout",
     "output_type": "stream",
     "text": [
      "(1, 2, 3, 4, 5)\n"
     ]
    }
   ],
   "source": [
    "#  Convert a tuple of strings to a tuple of integers.\n",
    "\n",
    "tuple_of_string = ('1','2','3','4','5')\n",
    "\n",
    "tuple_of_integer = tuple(int(i) for i in tuple_of_string)\n",
    "\n",
    "print(tuple_of_integer)"
   ]
  },
  {
   "cell_type": "code",
   "execution_count": 52,
   "id": "87a91211-c313-4726-bde5-6045afa03b96",
   "metadata": {},
   "outputs": [
    {
     "name": "stdout",
     "output_type": "stream",
     "text": [
      "(1, 2, 3, 4, 5, 6, 7, 8, 9, 0)\n"
     ]
    }
   ],
   "source": [
    "#  Merge two tuples\n",
    "\n",
    "tuple1 =(1,2,3,4,5)\n",
    "tuple2 = (6,7,8,9,0)\n",
    "\n",
    "merged_tuple = tuple1 + tuple2\n",
    "\n",
    "print(merged_tuple)"
   ]
  },
  {
   "cell_type": "code",
   "execution_count": 2,
   "id": "7db5afb0-8364-4efc-bdb7-a7eb3041bbe9",
   "metadata": {},
   "outputs": [
    {
     "name": "stdout",
     "output_type": "stream",
     "text": [
      "Flattened tuple: (1, 2, 3, 4, 5, 6)\n"
     ]
    }
   ],
   "source": [
    "# Flatten a nested tuple.\n",
    "\n",
    "nested_tuple = (1, (2, 3),(4,5, 6))\n",
    "\n",
    "flattened_list = []\n",
    "\n",
    "for item in nested_tuple:\n",
    "    if isinstance(item, tuple):\n",
    "        for sub_item in item:\n",
    "            flattened_list.append(sub_item)\n",
    "    else:\n",
    "        flattened_list.append(item)\n",
    "\n",
    "flattened_tuple = tuple(flattened_list)\n",
    "\n",
    "print(\"Flattened tuple:\", flattened_tuple)\n"
   ]
  },
  {
   "cell_type": "code",
   "execution_count": 3,
   "id": "5145cef5-11be-423b-a160-fe17d832ed02",
   "metadata": {},
   "outputs": [
    {
     "name": "stdout",
     "output_type": "stream",
     "text": [
      "Tuple of the first 5 prime numbers: (2, 3, 5, 7, 11)\n"
     ]
    }
   ],
   "source": [
    "# Create a tuple of the first 5 prime numbers.\n",
    "\n",
    "prime_numbers = (2, 3, 5, 7, 11)\n",
    "\n",
    "print(\"Tuple of the first 5 prime numbers:\", prime_numbers)\n"
   ]
  },
  {
   "cell_type": "code",
   "execution_count": 5,
   "id": "d90985fe-281b-4abb-89cf-ed248055e652",
   "metadata": {},
   "outputs": [
    {
     "name": "stdout",
     "output_type": "stream",
     "text": [
      "tuple is pallindrome:  (1, 2, 3, 2, 1)\n"
     ]
    }
   ],
   "source": [
    "# Check if a tuple is a palindrome\n",
    "\n",
    "my_tuple = (1,2,3,2,1)\n",
    "\n",
    "if my_tuple == my_tuple[::-1]:\n",
    "    print(\"tuple is pallindrome: \",my_tuple)\n",
    "else:\n",
    "    print(\"tuple is not pallindrome\",my_tuple)"
   ]
  },
  {
   "cell_type": "code",
   "execution_count": 7,
   "id": "e401e9dc-8932-487b-9b54-e07b105cd410",
   "metadata": {},
   "outputs": [
    {
     "name": "stdout",
     "output_type": "stream",
     "text": [
      "(1, 4, 9, 16, 25)\n"
     ]
    }
   ],
   "source": [
    "# Create a tuple of squares of numbers from 1 to 5.\n",
    " \n",
    "my_tuple = tuple(x**2 for x in range(1,6))\n",
    "            \n",
    "print(my_tuple)"
   ]
  },
  {
   "cell_type": "code",
   "execution_count": 9,
   "id": "40f2d1e5-e991-49e8-a4f7-9fd9280435c1",
   "metadata": {},
   "outputs": [
    {
     "name": "stdout",
     "output_type": "stream",
     "text": [
      "(2, 4, 6, 8)\n"
     ]
    }
   ],
   "source": [
    "# Filter out all even numbers from a tuple.\n",
    "    \n",
    "my_tuple = (1,2,3,4,5,6,7,8,9)\n",
    "\n",
    "even_tuple = tuple(x for x in my_tuple if x%2 == 0)\n",
    "\n",
    "print(even_tuple)\n",
    "\n"
   ]
  },
  {
   "cell_type": "code",
   "execution_count": 11,
   "id": "789df7b9-b634-4bfa-8f95-cab8eb9fb444",
   "metadata": {},
   "outputs": [
    {
     "name": "stdout",
     "output_type": "stream",
     "text": [
      "(1, 4, 9, 16, 25, 36, 49, 64, 81)\n"
     ]
    }
   ],
   "source": [
    "# Multiply all elements in a tuple by 2.\n",
    "\n",
    "my_tuple = (1,2,3,4,5,6,7,8,9)\n",
    "\n",
    "new_element = tuple(x**2 for x in my_tuple)\n",
    "\n",
    "print(new_element)"
   ]
  },
  {
   "cell_type": "code",
   "execution_count": 13,
   "id": "e460b712-10a3-4092-b0d2-17c6c5a6ddab",
   "metadata": {},
   "outputs": [
    {
     "name": "stdout",
     "output_type": "stream",
     "text": [
      "(61, 63, 34, 61, 61, 79, 33, 46, 75, 23)\n"
     ]
    }
   ],
   "source": [
    "# Create a tuple of random numbers.\n",
    "\n",
    "import random\n",
    "\n",
    "random_tuple = tuple(random.randint(1, 100) for _ in range(10)) \n",
    "\n",
    "print(random_tuple)"
   ]
  },
  {
   "cell_type": "code",
   "execution_count": 14,
   "id": "2993abee-784a-4b35-95bb-106641489911",
   "metadata": {},
   "outputs": [
    {
     "name": "stdout",
     "output_type": "stream",
     "text": [
      "The tuple is not sorted in ascending order.\n"
     ]
    }
   ],
   "source": [
    "# Check if a tuple is sorted\n",
    "\n",
    "my_tuple = (1, 2, 3, 2, 4)\n",
    "\n",
    "is_sorted = True\n",
    "\n",
    "for i in range(len(my_tuple) - 1):\n",
    "    if my_tuple[i] > my_tuple[i + 1]:\n",
    "        is_sorted = False\n",
    "        break\n",
    "if is_sorted:\n",
    "    print(\"The tuple is sorted in ascending order.\")\n",
    "else:\n",
    "    print(\"The tuple is not sorted in ascending order.\")\n"
   ]
  },
  {
   "cell_type": "code",
   "execution_count": 21,
   "id": "2c817462-9663-4f2c-befc-0f7c7a294db5",
   "metadata": {},
   "outputs": [
    {
     "name": "stdout",
     "output_type": "stream",
     "text": [
      "tuple rotated left by 2 positions: (3, 4, 5, 1, 2)\n"
     ]
    }
   ],
   "source": [
    "# Rotate a tuple to the left by n positions.\n",
    "\n",
    "my_tuple = (1, 2, 3, 4, 5)\n",
    "\n",
    "n = 2\n",
    "\n",
    "n %= len(my_tuple) \n",
    "my_tuple = my_tuple[n:] + my_tuple[:n]\n",
    "\n",
    "print(\"tuple rotated left by\", n, \"positions:\", my_tuple)"
   ]
  },
  {
   "cell_type": "code",
   "execution_count": 2,
   "id": "b0c9c86f-32a2-4283-ac6b-eb1f586d57c1",
   "metadata": {},
   "outputs": [
    {
     "name": "stdout",
     "output_type": "stream",
     "text": [
      "tuple rotated right by 2 positions: (4, 5, 1, 2, 3)\n"
     ]
    }
   ],
   "source": [
    "# Rotate a tuple to the right by `n` positions.\n",
    "\n",
    "my_tuple = (1, 2, 3, 4, 5)\n",
    "\n",
    "n = 2\n",
    "\n",
    "n %= len(my_tuple) \n",
    "my_tuple = my_tuple[-n:] + my_tuple[:-n]\n",
    "\n",
    "print(\"tuple rotated right by\", n, \"positions:\", my_tuple)"
   ]
  },
  {
   "cell_type": "code",
   "execution_count": 2,
   "id": "96cd1220-37c2-406d-b6ca-21ee34a1c7b3",
   "metadata": {},
   "outputs": [
    {
     "name": "stdout",
     "output_type": "stream",
     "text": [
      "Tuple of the first 5 Fibonacci numbers: (0, 1, 1, 2, 3)\n"
     ]
    }
   ],
   "source": [
    "# Create a tuple of the first 5 Fibonacci numbers.\n",
    "\n",
    "fibonacci_tuple = (0, 1)\n",
    "\n",
    "for i in range(2, 5):\n",
    "    next_fibonacci = fibonacci_tuple[i - 1] + fibonacci_tuple[i - 2]\n",
    "    fibonacci_tuple += (next_fibonacci,)\n",
    "\n",
    "print(\"Tuple of the first 5 Fibonacci numbers:\", fibonacci_tuple)\n"
   ]
  },
  {
   "cell_type": "code",
   "execution_count": 3,
   "id": "006ab4a3-bbb0-43c9-93a2-3f2fcf883f00",
   "metadata": {},
   "outputs": [
    {
     "name": "stdin",
     "output_type": "stream",
     "text": [
      "Enter your tuple 1,2,3,4,5\n"
     ]
    },
    {
     "name": "stdout",
     "output_type": "stream",
     "text": [
      "1,2,3,4,5\n"
     ]
    }
   ],
   "source": [
    "# Create a tuple from user input.\n",
    "\n",
    "user_input = input(\"Enter your tuple\")\n",
    "print(user_input)"
   ]
  },
  {
   "cell_type": "code",
   "execution_count": 12,
   "id": "cf71e6a6-b2bd-4180-9e99-61c1bf520e15",
   "metadata": {},
   "outputs": [
    {
     "name": "stdout",
     "output_type": "stream",
     "text": [
      "Updated tuple: (1, 4, 3, 2, 5, 6, 7)\n"
     ]
    }
   ],
   "source": [
    " # Swap two elements in a tuple\n",
    "\n",
    "my_tuple = (1,2,3,4,5,6,7)\n",
    "\n",
    "my_list = list(my_tuple)\n",
    "\n",
    "my_list[1], my_list[3] = my_list[3], my_list[1]\n",
    "\n",
    "my_tuple = tuple(my_list)\n",
    "\n",
    "print(\"Updated tuple:\", my_tuple)"
   ]
  },
  {
   "cell_type": "code",
   "execution_count": 13,
   "id": "7ff435f2-f62b-4a5f-a237-97a14a85a518",
   "metadata": {},
   "outputs": [
    {
     "name": "stdout",
     "output_type": "stream",
     "text": [
      "(5, 4, 3, 2, 1)\n"
     ]
    }
   ],
   "source": [
    "# Reverse the elements of a tuple.\n",
    "\n",
    "my_tuple = (1,2,3,4,5)\n",
    "\n",
    "reversed_tuple = my_tuple[::-1]\n",
    "\n",
    "print(reversed_tuple)"
   ]
  },
  {
   "cell_type": "code",
   "execution_count": 17,
   "id": "98f07dc6-c121-4444-a3e6-ac359222ac50",
   "metadata": {},
   "outputs": [
    {
     "name": "stdout",
     "output_type": "stream",
     "text": [
      "(1, 2, 4, 8, 16)\n"
     ]
    }
   ],
   "source": [
    "# Create a tuple of the first `n` powers of 2.\n",
    "\n",
    "n = 5\n",
    "\n",
    "my_tuple = tuple(2** i for i in range(n))\n",
    "\n",
    "print(my_tuple)"
   ]
  },
  {
   "cell_type": "code",
   "execution_count": 20,
   "id": "13751dfd-814c-4875-aae7-1feb50e48a29",
   "metadata": {},
   "outputs": [
    {
     "name": "stdout",
     "output_type": "stream",
     "text": [
      "javed\n"
     ]
    }
   ],
   "source": [
    "# Find the longest string in a tuple of strings.\n",
    "\n",
    "my_string = (\"umar\",\"javed\",\"alpha\")\n",
    "\n",
    "longest_string = max(my_string,key = len)\n",
    "\n",
    "print(longest_string)"
   ]
  },
  {
   "cell_type": "code",
   "execution_count": 22,
   "id": "33591e0f-8ec9-432a-b442-6deccdd12ab1",
   "metadata": {},
   "outputs": [
    {
     "name": "stdout",
     "output_type": "stream",
     "text": [
      "umar\n"
     ]
    }
   ],
   "source": [
    "# Find the shortest string in a tuple of strings.\n",
    "\n",
    "my_string = (\"umar\",\"javed\",\"alpha\")\n",
    "\n",
    "shortest_string = min(my_string,key = len)\n",
    "\n",
    "print(shortest_string)"
   ]
  },
  {
   "cell_type": "code",
   "execution_count": 24,
   "id": "4dc3f166-e803-49fc-b71a-ce79c6b047d8",
   "metadata": {},
   "outputs": [
    {
     "name": "stdout",
     "output_type": "stream",
     "text": [
      "Tuple of the first 5 triangular numbers: (1, 3, 6, 10, 15)\n"
     ]
    }
   ],
   "source": [
    " # Create a tuple of the first n triangular number\n",
    "n = 5\n",
    "\n",
    "triangular_numbers_tuple = tuple((i * (i + 1)) // 2 for i in range(1, n + 1))\n",
    "\n",
    "print(\"Tuple of the first\", n, \"triangular numbers:\", triangular_numbers_tuple)"
   ]
  },
  {
   "cell_type": "code",
   "execution_count": 25,
   "id": "288d91e8-dbdf-459f-a28b-2207bae7577a",
   "metadata": {},
   "outputs": [
    {
     "name": "stdout",
     "output_type": "stream",
     "text": [
      "sub_tuple is not a subsequence of main_tuple.\n"
     ]
    }
   ],
   "source": [
    "# Check if a tuple contains another tuple as a subsequence.\n",
    "\n",
    "main_tuple = (1, 2, 3, 4, 5, 6, 7)\n",
    "sub_tuple = (3, 4, 5)\n",
    "\n",
    "main_str = str(main_tuple)\n",
    "sub_str = str(sub_tuple)\n",
    "\n",
    "if sub_str in main_str:\n",
    "    print(\"sub_tuple is a subsequence of main_tuple.\")\n",
    "else:\n",
    "    print(\"sub_tuple is not a subsequence of main_tuple.\")\n"
   ]
  },
  {
   "cell_type": "code",
   "execution_count": 26,
   "id": "51768c4f-9f54-4ebb-97ff-04a3f1ce03ed",
   "metadata": {},
   "outputs": [
    {
     "name": "stdout",
     "output_type": "stream",
     "text": [
      "alternating tuple of 0s and 1s are: (0, 1, 0, 1, 0, 1, 0, 1, 0, 1)\n"
     ]
    }
   ],
   "source": [
    "# Create a tuple of alternating 1s and 0s of length n.\n",
    "\n",
    "n = 10\n",
    "\n",
    "alternating_tuple = tuple(i % 2 for i in range(n))\n",
    "\n",
    "print(\"alternating tuple of 0s and 1s are:\",alternating_tuple)"
   ]
  },
  {
   "cell_type": "markdown",
   "id": "9be9737d-df66-4a05-b233-a6cf54147fb1",
   "metadata": {},
   "source": [
    "Set based problems"
   ]
  },
  {
   "cell_type": "code",
   "execution_count": 28,
   "id": "c432fe8d-0edd-4421-925b-88ca868362ac",
   "metadata": {},
   "outputs": [
    {
     "name": "stdout",
     "output_type": "stream",
     "text": [
      "{1, 2, 3, 4, 5}\n"
     ]
    }
   ],
   "source": [
    "# Create a set with integers from 1 to 5\n",
    "\n",
    "my_set = set(range(1, 6))\n",
    "\n",
    "print(my_set)"
   ]
  },
  {
   "cell_type": "code",
   "execution_count": 29,
   "id": "517a23b5-e607-46db-980c-4a09048d787e",
   "metadata": {},
   "outputs": [
    {
     "name": "stdout",
     "output_type": "stream",
     "text": [
      "{1, 2, 3, 4, 5, 6}\n"
     ]
    }
   ],
   "source": [
    "\n",
    "# Add an element to a set\n",
    "\n",
    "my_set = {1,2,3,4,5}\n",
    "\n",
    "my_set.add(6)\n",
    "\n",
    "print(my_set)"
   ]
  },
  {
   "cell_type": "code",
   "execution_count": 30,
   "id": "00f973b0-a7c5-4301-be12-55cfea535a0d",
   "metadata": {},
   "outputs": [
    {
     "name": "stdout",
     "output_type": "stream",
     "text": [
      "{1, 2, 3, 5}\n"
     ]
    }
   ],
   "source": [
    "# Remove an element from a set.\n",
    "\n",
    "my_set = {1,2,3,4,5}\n",
    "\n",
    "my_set.remove(4)\n",
    "\n",
    "print(my_set)"
   ]
  },
  {
   "cell_type": "code",
   "execution_count": 34,
   "id": "151aeaf2-5e21-4a08-b4cd-12858885d936",
   "metadata": {},
   "outputs": [
    {
     "name": "stdout",
     "output_type": "stream",
     "text": [
      "5 exists in the set.\n"
     ]
    }
   ],
   "source": [
    "# Check if an element exists in a set.\n",
    "\n",
    "my_set = {1,2,3,4,5,6,7,8,9}\n",
    "\n",
    "element_to_check = 5\n",
    "\n",
    "if element_to_check in my_set:\n",
    "    print(f\"{element_to_check} exists in the set.\")\n",
    "else:\n",
    "    print(f\"{element_to_check} does not exist in the set.\")"
   ]
  },
  {
   "cell_type": "code",
   "execution_count": 36,
   "id": "26e92e9d-0bb2-4ea5-8f68-b69eae8aeec2",
   "metadata": {},
   "outputs": [
    {
     "name": "stdout",
     "output_type": "stream",
     "text": [
      "6\n"
     ]
    }
   ],
   "source": [
    "# Find the length of a set without using the len() function\n",
    "\n",
    "my_set = {1,2,3,4,5,6}\n",
    "\n",
    "count = 0\n",
    "\n",
    "for _ in my_set:\n",
    "    count +=1\n",
    "print(count)"
   ]
  },
  {
   "cell_type": "code",
   "execution_count": 37,
   "id": "e85553e4-c6ac-4950-b8d0-87c8fc1ae029",
   "metadata": {},
   "outputs": [
    {
     "name": "stdout",
     "output_type": "stream",
     "text": [
      "set()\n"
     ]
    }
   ],
   "source": [
    "# Clear all elements from a set.\n",
    "\n",
    "my_set = {1,2,3,4,5,6,7,8,9}\n",
    "\n",
    "my_set.clear()\n",
    "\n",
    "print(my_set)"
   ]
  },
  {
   "cell_type": "code",
   "execution_count": 38,
   "id": "8aa66b10-5c56-4b3b-aae3-83cb6231e02c",
   "metadata": {},
   "outputs": [
    {
     "name": "stdout",
     "output_type": "stream",
     "text": [
      "{2, 4, 6, 8, 10}\n"
     ]
    }
   ],
   "source": [
    " # Create a set of even numbers from 1 to 10\n",
    "\n",
    "even_number_set = set()\n",
    "\n",
    "for i in range(1,11):\n",
    "    if i % 2 == 0:\n",
    "        even_number_set.add(i)\n",
    "print(even_number_set)"
   ]
  },
  {
   "cell_type": "code",
   "execution_count": 40,
   "id": "44efd0b8-cde3-42f0-97f2-9ab8748bfaeb",
   "metadata": {},
   "outputs": [
    {
     "name": "stdout",
     "output_type": "stream",
     "text": [
      "{1, 3, 5, 7, 9}\n"
     ]
    }
   ],
   "source": [
    "# Create a set of odd numbers from 1 to 10\n",
    "\n",
    "odd_number_set = set()\n",
    "\n",
    "for i in range(1,11):\n",
    "    if i % 2 != 0:\n",
    "        odd_number_set.add(i)\n",
    "print(odd_number_set)"
   ]
  },
  {
   "cell_type": "code",
   "execution_count": 42,
   "id": "d9ea4313-52cb-42e0-9452-d75bdf186339",
   "metadata": {},
   "outputs": [
    {
     "name": "stdout",
     "output_type": "stream",
     "text": [
      "{1, 2, 3, 4, 5, 6, 7, 8}\n"
     ]
    }
   ],
   "source": [
    "# Find the union of two sets\n",
    "\n",
    "set1 ={1,2,3,4}\n",
    "set2 = {5,6,7,8}\n",
    "\n",
    "union_of_set = set1.union(set2)\n",
    "\n",
    "print(union_of_set)"
   ]
  },
  {
   "cell_type": "code",
   "execution_count": 45,
   "id": "7a364b6d-f6f2-4e49-9f35-f316452fbd9d",
   "metadata": {},
   "outputs": [
    {
     "name": "stdout",
     "output_type": "stream",
     "text": [
      "{1, 2, 3, 4}\n"
     ]
    }
   ],
   "source": [
    " # Find the intersection of two sets\n",
    "    \n",
    "set1 ={1,2,3,4}\n",
    "set2 = {3,4,7,8}\n",
    "\n",
    "intersection_of_set = set1 or(set2)\n",
    "\n",
    "print(intersection_of_set)"
   ]
  },
  {
   "cell_type": "code",
   "execution_count": 48,
   "id": "e885c18c-acf9-4bb3-8dc5-2f54913b2038",
   "metadata": {},
   "outputs": [
    {
     "name": "stdout",
     "output_type": "stream",
     "text": [
      "{1, 2}\n"
     ]
    }
   ],
   "source": [
    "# Find the difference between two sets.\n",
    "\n",
    "set1 ={1,2,3,4}\n",
    "set2 = {3,4,7,8}\n",
    "\n",
    "difference_of_sets = set1- set2\n",
    "\n",
    "print(difference_of_sets)"
   ]
  },
  {
   "cell_type": "code",
   "execution_count": 53,
   "id": "1bb2afd5-5cf5-4bdb-b8fe-b10e5bf4890a",
   "metadata": {},
   "outputs": [
    {
     "name": "stdout",
     "output_type": "stream",
     "text": [
      "set1 is a subset of set2:  True\n"
     ]
    }
   ],
   "source": [
    "# Check if a set is a subset of another set.\n",
    "\n",
    "set1 = {1, 2, 3}\n",
    "set2 = {1, 2, 3, 4, 5}\n",
    "\n",
    "is_subset = set1.issubset(set2)\n",
    "\n",
    "print(\"set1 is a subset of set2: \" ,is_subset)"
   ]
  },
  {
   "cell_type": "code",
   "execution_count": 55,
   "id": "3efc05d8-e620-4176-b032-dc5eb8eb76e3",
   "metadata": {},
   "outputs": [
    {
     "name": "stdout",
     "output_type": "stream",
     "text": [
      "set1 is a superset of set2:  False\n"
     ]
    }
   ],
   "source": [
    " # Check if a set is a superset of another set.\n",
    "set1 = {1, 2, 3}\n",
    "set2 = {1, 2, 3, 4, 5}\n",
    "\n",
    "is_superset = set1.issuperset(set2)\n",
    "\n",
    "print(\"set1 is a superset of set2: \" ,is_superset)"
   ]
  },
  {
   "cell_type": "code",
   "execution_count": 1,
   "id": "152d5af3-406f-46bb-aa9f-e6d5c8988e4d",
   "metadata": {},
   "outputs": [
    {
     "name": "stdout",
     "output_type": "stream",
     "text": [
      "Set from List: {1, 2, 3, 4, 5}\n"
     ]
    }
   ],
   "source": [
    "# Create a set from a list\n",
    "\n",
    "my_list = [2, 4, 1, 4, 3, 2, 5]\n",
    "\n",
    "my_set = set(my_list)\n",
    "\n",
    "print(\"Set from List:\", my_set)"
   ]
  },
  {
   "cell_type": "code",
   "execution_count": 2,
   "id": "fb5c0d67-6931-4d84-8de6-812534edb661",
   "metadata": {},
   "outputs": [
    {
     "name": "stdout",
     "output_type": "stream",
     "text": [
      "Set from List: [1, 2, 3, 4, 5]\n"
     ]
    }
   ],
   "source": [
    "# Convert a set to a list.\n",
    "    \n",
    "my_set = {2, 4, 1, 4, 3, 2, 5}\n",
    "\n",
    "my_list = list(my_set)\n",
    "\n",
    "print(\"Set from List:\", my_list)"
   ]
  },
  {
   "cell_type": "code",
   "execution_count": 9,
   "id": "6fb1f608-d682-4c79-8bf5-6e9a24f2e55b",
   "metadata": {},
   "outputs": [
    {
     "name": "stdout",
     "output_type": "stream",
     "text": [
      "{1, 2, 3, 5, 6, 7}\n"
     ]
    }
   ],
   "source": [
    "#  Remove a random element from a set.\n",
    "import random\n",
    "\n",
    "my_set = {1,2,3,4,5,6,7}\n",
    "\n",
    "random_element = random.choice(list(my_set))\n",
    "\n",
    "my_set.remove(random_element)\n",
    "\n",
    "print(my_set)"
   ]
  },
  {
   "cell_type": "code",
   "execution_count": 11,
   "id": "f472f039-e6ae-4121-a342-607193d9fd14",
   "metadata": {},
   "outputs": [
    {
     "name": "stdout",
     "output_type": "stream",
     "text": [
      "{2, 3, 4, 5, 6, 7, 8, 9}\n"
     ]
    }
   ],
   "source": [
    "# Pop an element from a set.\n",
    "\n",
    "my_set = {1,2,3,4,5,6,7,8,9}\n",
    "\n",
    "my_set.pop()\n",
    "\n",
    "print(my_set)"
   ]
  },
  {
   "cell_type": "code",
   "execution_count": 13,
   "id": "1a3ad8a4-56cf-40da-9c7b-610c2268df37",
   "metadata": {},
   "outputs": [
    {
     "name": "stdout",
     "output_type": "stream",
     "text": [
      "there is a common element\n"
     ]
    }
   ],
   "source": [
    "# Check if two sets have no elements in common.\n",
    "\n",
    "set1 ={1,2,3,4}\n",
    "set2 = {3,4,7,8}\n",
    "\n",
    "common_element = set1 or(set2)\n",
    "\n",
    "if not common_element:\n",
    "    print(\"there is no common elemnt in a set\")\n",
    "else:\n",
    "    print(\"there is a common element\")"
   ]
  },
  {
   "cell_type": "code",
   "execution_count": 14,
   "id": "30e26ace-21e3-42eb-ae22-5068593cd72f",
   "metadata": {},
   "outputs": [
    {
     "name": "stdout",
     "output_type": "stream",
     "text": [
      "Symmetric Difference: {1, 2, 3, 6, 7, 8}\n"
     ]
    }
   ],
   "source": [
    "# Find the symmetric difference between two sets.\n",
    "\n",
    "set1 = {1, 2, 3, 4, 5}\n",
    "set2 = {4, 5, 6, 7, 8}\n",
    "\n",
    "symmetric_difference = set1 ^ set2\n",
    "\n",
    "print(\"Symmetric Difference:\", symmetric_difference)"
   ]
  },
  {
   "cell_type": "code",
   "execution_count": 16,
   "id": "0478090e-0f3a-4703-b682-28e31207f866",
   "metadata": {},
   "outputs": [
    {
     "name": "stdout",
     "output_type": "stream",
     "text": [
      "{1, 2, 3, 4, 5, 6, 7, 8, 9}\n"
     ]
    }
   ],
   "source": [
    "# Update a set with elements from another set.\n",
    "\n",
    "set1 = {1,2,3,4,5}\n",
    "set2 = {6,7,8,9}\n",
    "\n",
    "set1.update(set2)\n",
    "\n",
    "print(set1)"
   ]
  },
  {
   "cell_type": "code",
   "execution_count": 17,
   "id": "17a8d012-d043-4459-aa35-37bfe9aea025",
   "metadata": {},
   "outputs": [
    {
     "name": "stdout",
     "output_type": "stream",
     "text": [
      "{2, 3, 5, 7, 11}\n"
     ]
    }
   ],
   "source": [
    "# Create a set of the first 5 prime numbers\n",
    "    \n",
    "set_of_prime_number = {2,3,5,7,11}\n",
    "\n",
    "print(set_of_prime_number)"
   ]
  },
  {
   "cell_type": "code",
   "execution_count": 19,
   "id": "6b9f3b38-7207-4481-83ac-1d28dbd275d8",
   "metadata": {},
   "outputs": [
    {
     "name": "stdout",
     "output_type": "stream",
     "text": [
      "The sets are not identical.\n"
     ]
    }
   ],
   "source": [
    "# Check if two sets are identical.\n",
    "\n",
    "set1 = {1,2,3,4,5}\n",
    "set2 = {4,5,8,9}\n",
    "\n",
    "if set1 == set2:\n",
    "    print(\"The sets are identical.\")\n",
    "else:\n",
    "    print(\"The sets are not identical.\")"
   ]
  },
  {
   "cell_type": "code",
   "execution_count": 20,
   "id": "306182c0-2285-4177-9a2d-dda9e2a5b0e0",
   "metadata": {},
   "outputs": [
    {
     "name": "stdout",
     "output_type": "stream",
     "text": [
      "frozenset({1, 2, 3, 4, 5, 6, 7, 8, 9})\n"
     ]
    }
   ],
   "source": [
    "# Create a frozen set\n",
    "\n",
    "my_list = [1,2,3,4,5,6,7,8,9]\n",
    "\n",
    "frozen_set = frozenset(my_list)\n",
    "\n",
    "print(frozen_set)"
   ]
  },
  {
   "cell_type": "code",
   "execution_count": 22,
   "id": "fc24bd6a-636f-48a3-bdd5-811051341908",
   "metadata": {},
   "outputs": [
    {
     "name": "stdout",
     "output_type": "stream",
     "text": [
      "True\n"
     ]
    }
   ],
   "source": [
    "#  Check if a set is disjoint with another set.\n",
    "\n",
    "set1 = {1, 2, 3, 4, 5}\n",
    "set2 = {6, 7, 8}\n",
    "\n",
    "disjoint_element = set1.isdisjoint(set2)\n",
    "\n",
    "print(disjoint_element)"
   ]
  },
  {
   "cell_type": "code",
   "execution_count": 23,
   "id": "eb06703c-430a-4e7c-9495-f8e04783c98c",
   "metadata": {},
   "outputs": [
    {
     "name": "stdout",
     "output_type": "stream",
     "text": [
      "{1, 4, 9, 16, 25}\n"
     ]
    }
   ],
   "source": [
    "# Create a set of squares of numbers from 1 to 5.\n",
    "\n",
    "squares_set = {x**2 for x in range(1, 6)}\n",
    "\n",
    "print(squares_set)"
   ]
  },
  {
   "cell_type": "code",
   "execution_count": 26,
   "id": "bd2e36ba-6a63-41bf-b762-8850e09f8507",
   "metadata": {},
   "outputs": [
    {
     "name": "stdout",
     "output_type": "stream",
     "text": [
      "{1, 3, 5, 7, 9}\n"
     ]
    }
   ],
   "source": [
    "#  Filter out all even numbers from a set.\n",
    "\n",
    "my_set = {1,2,3,4,5,6,7,8,9}\n",
    "\n",
    "filtered_set = {x for x in my_set if x%2 != 0}\n",
    "\n",
    "print(filtered_set)"
   ]
  },
  {
   "cell_type": "code",
   "execution_count": 29,
   "id": "afe1e4b6-9aa6-44c1-8a49-689c1642ebec",
   "metadata": {},
   "outputs": [
    {
     "name": "stdout",
     "output_type": "stream",
     "text": [
      "{2, 4, 6, 8, 10}\n"
     ]
    }
   ],
   "source": [
    "# Multiply all elements in a set by 2.\n",
    "\n",
    "my_set = {1,2,3,4,5}\n",
    "\n",
    "new_set = {x * 2 for x in  my_set}\n",
    "\n",
    "print(new_set)"
   ]
  },
  {
   "cell_type": "code",
   "execution_count": 30,
   "id": "f5ad6feb-305c-477e-8e48-a08ec9dcbe68",
   "metadata": {},
   "outputs": [
    {
     "name": "stdout",
     "output_type": "stream",
     "text": [
      "{65, 37, 47, 53, 61}\n"
     ]
    }
   ],
   "source": [
    "# Create a set of random numbers.\n",
    "\n",
    "import random\n",
    "\n",
    "random_set = {random.randint(1, 100) for _ in range(5)}\n",
    "\n",
    "print(random_set)\n",
    "\n",
    "\n"
   ]
  },
  {
   "cell_type": "code",
   "execution_count": 31,
   "id": "352100be-d1ff-4697-a1c6-d8bfd74b2ac7",
   "metadata": {},
   "outputs": [
    {
     "name": "stdout",
     "output_type": "stream",
     "text": [
      "set is empty\n"
     ]
    }
   ],
   "source": [
    "# Check if a set is empty.\n",
    "\n",
    "my_set = {}\n",
    "\n",
    "if not my_set:\n",
    "    print(\"set is empty\")\n",
    "else:\n",
    "    print(\"set is not empty\")"
   ]
  },
  {
   "cell_type": "code",
   "execution_count": 33,
   "id": "e9192569-d1b7-43a9-a238-a80b17d6aae6",
   "metadata": {},
   "outputs": [
    {
     "name": "stdout",
     "output_type": "stream",
     "text": [
      "{frozenset({1, 2, 3}), frozenset({4, 5, 6})}\n"
     ]
    }
   ],
   "source": [
    "#  Create a nested set (hint: use frozenset).\n",
    "\n",
    "set1 = frozenset([1, 2, 3])\n",
    "set2 = frozenset([4, 5, 6])\n",
    "\n",
    "nested_set = {set1, set2}\n",
    "\n",
    "print(nested_set)"
   ]
  },
  {
   "cell_type": "code",
   "execution_count": 38,
   "id": "e33f0630-b2ad-40b6-8125-a9220be38856",
   "metadata": {},
   "outputs": [
    {
     "name": "stdout",
     "output_type": "stream",
     "text": [
      "{1, 2, 3, 5}\n"
     ]
    }
   ],
   "source": [
    "# Remove an element from a set using the discard method.\n",
    "\n",
    "my_set  = {1,2,3,4,5}\n",
    "\n",
    "element_to_remove = 4\n",
    "my_set.discard(element_to_remove)\n",
    "\n",
    "print(my_set)"
   ]
  },
  {
   "cell_type": "code",
   "execution_count": 39,
   "id": "46c08f89-e912-43eb-bfb8-fe4f855f2d26",
   "metadata": {},
   "outputs": [
    {
     "name": "stdout",
     "output_type": "stream",
     "text": [
      "Set 1: {1, 2, 3, 4, 5}\n",
      "Set 2: {4, 5, 6, 7, 8}\n",
      "Is set1 a subset of set2? False\n",
      "Is set2 a subset of set1? False\n",
      "Intersection: {4, 5}\n",
      "Union: {1, 2, 3, 4, 5, 6, 7, 8}\n",
      "Elements in set1 but not in set2: {1, 2, 3}\n",
      "Elements in set2 but not in set1: {8, 6, 7}\n"
     ]
    }
   ],
   "source": [
    "#  Compare two sets\n",
    "\n",
    "set1 = {1, 2, 3, 4, 5}\n",
    "set2 = {4, 5, 6, 7, 8}\n",
    "\n",
    "is_subset = set1.issubset(set2)\n",
    "\n",
    "is_superset = set1.issuperset(set2)\n",
    "\n",
    "intersection = set1.intersection(set2)\n",
    "\n",
    "union = set1.union(set2)\n",
    "\n",
    "difference1 = set1.difference(set2)\n",
    "\n",
    "difference2 = set2.difference(set1)\n",
    "\n",
    "# Step 3: Print the results\n",
    "print(\"Set 1:\", set1)\n",
    "print(\"Set 2:\", set2)\n",
    "print(\"Is set1 a subset of set2?\", is_subset)\n",
    "print(\"Is set2 a subset of set1?\", is_superset)\n",
    "print(\"Intersection:\", intersection)\n",
    "print(\"Union:\", union)\n",
    "print(\"Elements in set1 but not in set2:\", difference1)\n",
    "print(\"Elements in set2 but not in set1:\", difference2)"
   ]
  },
  {
   "cell_type": "code",
   "execution_count": 41,
   "id": "3f9982d2-e7be-4a71-b80f-98e41fbb7a02",
   "metadata": {},
   "outputs": [
    {
     "name": "stdout",
     "output_type": "stream",
     "text": [
      "{'a', 'u', 'r', 'm'}\n"
     ]
    }
   ],
   "source": [
    "# Create a set from a string.\n",
    "\n",
    "my_string = \"umar\"\n",
    "\n",
    "my_set = set(my_string)\n",
    "\n",
    "print(my_set)"
   ]
  },
  {
   "cell_type": "code",
   "execution_count": 43,
   "id": "aaa65d19-cc61-4f25-b565-d584eedb906a",
   "metadata": {},
   "outputs": [
    {
     "name": "stdout",
     "output_type": "stream",
     "text": [
      "Converted Integer Set: {456, 123, 789}\n"
     ]
    }
   ],
   "source": [
    "# Convert a set of strings to a set of integers.\n",
    "\n",
    "string_set = {\"123\", \"456\", \"789\"}\n",
    "\n",
    "integer_set = set()\n",
    "\n",
    "for string in string_set:\n",
    "    integer_value = int(string)\n",
    "    integer_set.add(integer_value)\n",
    "\n",
    "print(\"Converted Integer Set:\", integer_set)"
   ]
  },
  {
   "cell_type": "code",
   "execution_count": 4,
   "id": "aa692a74-1283-4bc0-8935-d2594bef2b7d",
   "metadata": {},
   "outputs": [
    {
     "name": "stdout",
     "output_type": "stream",
     "text": [
      "Converted string Set: {'4', '2', '3', '1', '5'}\n"
     ]
    }
   ],
   "source": [
    "# Convert a set of integers to a set of strings.\n",
    "\n",
    "integer_set = {1,2,3,4,5}\n",
    "\n",
    "string_set = set()\n",
    "\n",
    "for integer in integer_set:\n",
    "    string_value = str(integer)\n",
    "    string_set.add(string_value)\n",
    "\n",
    "print(\"Converted string Set:\", string_set)"
   ]
  },
  {
   "cell_type": "code",
   "execution_count": 5,
   "id": "1573c1b1-bdb6-4e51-a36c-b69dcd98d9cf",
   "metadata": {},
   "outputs": [
    {
     "name": "stdout",
     "output_type": "stream",
     "text": [
      "{1, 2, 3, 4, 5}\n"
     ]
    }
   ],
   "source": [
    "# Create a set from a tuple.\n",
    "\n",
    "\n",
    "my_tuple = (1,2,3,4,5)\n",
    "\n",
    "tuple_to_set = set(my_tuple)\n",
    "\n",
    "print(tuple_to_set)"
   ]
  },
  {
   "cell_type": "code",
   "execution_count": 1,
   "id": "a4f4ff62-d24b-403c-a8b5-f38e194c2e6a",
   "metadata": {},
   "outputs": [
    {
     "name": "stdout",
     "output_type": "stream",
     "text": [
      "(1, 2, 3, 4, 5)\n"
     ]
    }
   ],
   "source": [
    "# Convert a set to a tuple\n",
    "\n",
    "my_set = {1,2,3,4,5}\n",
    "\n",
    "tuple_set = tuple(my_set)\n",
    "\n",
    "print(tuple_set)"
   ]
  },
  {
   "cell_type": "code",
   "execution_count": 6,
   "id": "90c5fd75-c476-4e1e-a5cf-5521d0248738",
   "metadata": {},
   "outputs": [
    {
     "name": "stdout",
     "output_type": "stream",
     "text": [
      "50\n"
     ]
    }
   ],
   "source": [
    "# Find the maximum value in a set.\n",
    "\n",
    "my_set = {10,20,30,40,50}\n",
    "\n",
    "maximum_value = max(my_set)\n",
    "\n",
    "print(maximum_value)"
   ]
  },
  {
   "cell_type": "code",
   "execution_count": 2,
   "id": "0362a160-8b6b-4aa6-8d1b-071396992e9f",
   "metadata": {},
   "outputs": [
    {
     "name": "stdout",
     "output_type": "stream",
     "text": [
      "10\n"
     ]
    }
   ],
   "source": [
    "#  Find the minimum value in a set.\n",
    "\n",
    "my_set = {10,20,30,40,50}\n",
    "\n",
    "minimum_value = min(my_set)\n",
    "\n",
    "print(minimum_value)"
   ]
  },
  {
   "cell_type": "code",
   "execution_count": 7,
   "id": "58974fcd-a51f-4faf-bbad-2e2311484e7b",
   "metadata": {},
   "outputs": [
    {
     "name": "stdin",
     "output_type": "stream",
     "text": [
      "Enter elements separated by spaces:  1 2 3 4 5\n"
     ]
    },
    {
     "name": "stdout",
     "output_type": "stream",
     "text": [
      "User set: {'4', '2', '3', '1', '5'}\n"
     ]
    }
   ],
   "source": [
    "# Create a set from user input.\n",
    "\n",
    "input_str = input(\"Enter elements separated by spaces: \")\n",
    "\n",
    "input_list = input_str.split()\n",
    "\n",
    "user_set = set(input_list)\n",
    "\n",
    "print(\"User set:\", user_set)\n"
   ]
  },
  {
   "cell_type": "code",
   "execution_count": 8,
   "id": "697bef9d-4f62-46fc-b8fa-6db86c4ef877",
   "metadata": {},
   "outputs": [
    {
     "name": "stdout",
     "output_type": "stream",
     "text": [
      "The intersection is empty.\n"
     ]
    }
   ],
   "source": [
    "# Check if the intersection of two sets is empty.\n",
    "\n",
    "set1 = {1, 2, 3}\n",
    "set2 = {4, 5, 6}\n",
    "\n",
    "if set1.isdisjoint(set2):\n",
    "    print(\"The intersection is empty.\")\n",
    "else:\n",
    "    print(\"The intersection is not empty.\")\n"
   ]
  },
  {
   "cell_type": "code",
   "execution_count": 9,
   "id": "148e84bb-f367-41e5-8e36-7c8bcb456079",
   "metadata": {},
   "outputs": [
    {
     "name": "stdout",
     "output_type": "stream",
     "text": [
      "Set of the first 5 Fibonacci numbers: {0, 1, 2, 3, 5}\n"
     ]
    }
   ],
   "source": [
    "# Create a set of the first 5 Fibonacci numbers\n",
    "\n",
    "fibonacci_set = set()\n",
    "\n",
    "a, b = 0, 1\n",
    "\n",
    "for _ in range(6):\n",
    "\n",
    "    fibonacci_set.add(a)\n",
    "\n",
    "    a, b = b, a + b\n",
    "\n",
    "print(\"Set of the first 5 Fibonacci numbers:\", fibonacci_set)"
   ]
  },
  {
   "cell_type": "code",
   "execution_count": 10,
   "id": "3dc1953c-ce61-421d-9a67-da05d798a840",
   "metadata": {},
   "outputs": [
    {
     "name": "stdout",
     "output_type": "stream",
     "text": [
      "[1, 2, 3, 4, 5]\n"
     ]
    }
   ],
   "source": [
    "# Remove duplicates from a list using sets.\n",
    "\n",
    "my_list = [1, 2, 2, 3, 4, 4, 5]\n",
    "\n",
    "my_list = list(set(my_list))\n",
    "\n",
    "print(my_list)\n"
   ]
  },
  {
   "cell_type": "code",
   "execution_count": 11,
   "id": "b5a6bf59-7c9b-4e0a-9f7f-76957da2ba6a",
   "metadata": {},
   "outputs": [
    {
     "name": "stdout",
     "output_type": "stream",
     "text": [
      "The sets have the same elements.\n"
     ]
    }
   ],
   "source": [
    "# Check if two sets have the same elements, regardless of their count.\n",
    "\n",
    "set1 = {1, 2, 3, 4, 5}\n",
    "set2 = {5, 4, 3, 2, 1}\n",
    "\n",
    "if set1 == set2:\n",
    "    print(\"The sets have the same elements.\")\n",
    "else:\n",
    "    print(\"The sets do not have the same elements.\")\n"
   ]
  },
  {
   "cell_type": "code",
   "execution_count": 12,
   "id": "d6f4f0a9-7b0d-473b-aaf5-854ad80726f0",
   "metadata": {},
   "outputs": [
    {
     "name": "stdout",
     "output_type": "stream",
     "text": [
      "{1, 2, 4, 8, 16}\n"
     ]
    }
   ],
   "source": [
    "# Create a set of the first n powers of 2\n",
    "\n",
    "n = 5 \n",
    "\n",
    "powers_of_2_set = {2 ** i for i in range(n)}\n",
    "\n",
    "print(powers_of_2_set)\n"
   ]
  },
  {
   "cell_type": "code",
   "execution_count": 14,
   "id": "49cd8bed-e0ce-48a0-b872-864c7858d0ee",
   "metadata": {},
   "outputs": [
    {
     "name": "stdout",
     "output_type": "stream",
     "text": [
      "Common elements: {3, 4, 5}\n"
     ]
    }
   ],
   "source": [
    "#  Find the common elements between a set and a list.\n",
    "\n",
    "my_set = {1, 2, 3, 4, 5}\n",
    "\n",
    "my_list = [3, 4, 5, 6, 7]\n",
    "\n",
    "common_elements_method = my_set.intersection(my_list)\n",
    "\n",
    "print(\"Common elements:\", common_elements_method)\n",
    "\n"
   ]
  },
  {
   "cell_type": "code",
   "execution_count": 15,
   "id": "c2778327-64a7-4b29-b486-559c5b85c79e",
   "metadata": {},
   "outputs": [
    {
     "name": "stdout",
     "output_type": "stream",
     "text": [
      "{1, 3, 6, 10, 15}\n"
     ]
    }
   ],
   "source": [
    "# Create a set of the first n triangular numbers.\n",
    "\n",
    "n = 5  \n",
    "triangular_numbers_set = {i * (i + 1) // 2 for i in range(1, n + 1)}\n",
    "\n",
    "print(triangular_numbers_set)\n"
   ]
  },
  {
   "cell_type": "code",
   "execution_count": 16,
   "id": "8e525608-dd33-4129-9938-37669a38e490",
   "metadata": {},
   "outputs": [
    {
     "name": "stdout",
     "output_type": "stream",
     "text": [
      "set2 is a subset of set1\n"
     ]
    }
   ],
   "source": [
    "# Check if a set contains another set as a subset.\n",
    "\n",
    "set1 = {1, 2, 3, 4, 5}\n",
    "set2 = {3, 4}\n",
    "\n",
    "is_subset = set2.issubset(set1)\n",
    "\n",
    "if is_subset:\n",
    "    print(\"set2 is a subset of set1\")\n",
    "else:\n",
    "    print(\"set2 is not a subset of set1\")"
   ]
  },
  {
   "cell_type": "code",
   "execution_count": 18,
   "id": "af528fa2-0233-4090-a27e-213e0d773642",
   "metadata": {},
   "outputs": [
    {
     "name": "stdout",
     "output_type": "stream",
     "text": [
      "alternating tuple of 0s and 1s are: {0, 1}\n"
     ]
    }
   ],
   "source": [
    "# . Create a set of alternating 1s and 0s of length n\n",
    "\n",
    "n = 10\n",
    "\n",
    "alternating_set = set(i % 2 for i in range(n))\n",
    "\n",
    "print(\"alternating set of 0s and 1s are:\",alternating_set)"
   ]
  },
  {
   "cell_type": "code",
   "execution_count": 19,
   "id": "c0f33492-dff2-4677-8129-468b9ef4827f",
   "metadata": {},
   "outputs": [
    {
     "name": "stdout",
     "output_type": "stream",
     "text": [
      "Merged Set: {1, 2, 3, 4, 5, 6, 7}\n"
     ]
    }
   ],
   "source": [
    "# Merge multiple sets into one.\n",
    "\n",
    "set1 = {1, 2, 3}\n",
    "set2 = {3, 4, 5}\n",
    "set3 = {5, 6, 7}\n",
    "\n",
    "merged_set = set1.union(set2, set3)\n",
    "\n",
    "print(\"Merged Set:\", merged_set)"
   ]
  },
  {
   "cell_type": "code",
   "execution_count": null,
   "id": "eebaab84-3fc0-4d51-9235-7f0e9eb3a4f6",
   "metadata": {},
   "outputs": [],
   "source": []
  }
 ],
 "metadata": {
  "kernelspec": {
   "display_name": "Python 3 (ipykernel)",
   "language": "python",
   "name": "python3"
  },
  "language_info": {
   "codemirror_mode": {
    "name": "ipython",
    "version": 3
   },
   "file_extension": ".py",
   "mimetype": "text/x-python",
   "name": "python",
   "nbconvert_exporter": "python",
   "pygments_lexer": "ipython3",
   "version": "3.10.8"
  }
 },
 "nbformat": 4,
 "nbformat_minor": 5
}
